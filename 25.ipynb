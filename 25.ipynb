{
 "cells": [
  {
   "cell_type": "code",
   "execution_count": 7,
   "metadata": {},
   "outputs": [],
   "source": [
    "# locks have the top row filled and the bottom row empty\n",
    "# keys have the top row empty and the bottom row filled\n",
    "\n",
    "# separate the input data into locks and keys\n",
    "import re\n",
    "from functools import cache\n",
    "def getHeights(schematics):\n",
    "    # we just need to check whether the top row is empty or filled\n",
    "    keys = []\n",
    "    locks = []\n",
    "    for s in schematics:\n",
    "        isLock = re.match(r'#####', s[0])\n",
    "        # print(isLock)\n",
    "        height = [-1 for _ in range(len(s[0]))]\n",
    "        for col in range(len(s[0])):\n",
    "            for row in range(len(s)):\n",
    "                if s[row][col] == \"#\":\n",
    "                    height[col] += 1\n",
    "\n",
    "        if isLock:\n",
    "            locks.append(height)\n",
    "        else:\n",
    "            keys.append(height)\n",
    "\n",
    "    # print(locks, keys)\n",
    "    \n",
    "    return keys, locks\n",
    "\n",
    "def checkFit(lock, key):\n",
    "    # base case: when lock and key only have one element left\n",
    "    if len(lock) == 1:\n",
    "        # check if sum of elements does not exceed 5\n",
    "        return lock[0] + key[0] <= 5\n",
    "    \n",
    "    # recursive function:\n",
    "    # check all elements of lock and key\n",
    "    return (lock[0] + key[0] <= 5) and checkFit(lock[1:], key[1:])\n",
    "\n",
    "\n",
    "\n",
    "    \n",
    "        \n",
    "\n",
    "                \n"
   ]
  },
  {
   "cell_type": "code",
   "execution_count": 8,
   "metadata": {},
   "outputs": [
    {
     "data": {
      "text/plain": [
       "3"
      ]
     },
     "execution_count": 8,
     "metadata": {},
     "output_type": "execute_result"
    }
   ],
   "source": [
    "with open('data/test/25.txt', 'r', encoding='utf-8') as f:\n",
    "    schematics = [s.split('\\n') for s in f.read().split('\\n\\n')]\n",
    "\n",
    "keys, locks = getHeights(schematics)\n",
    "\n",
    "valid = 0\n",
    "for key in keys:\n",
    "    for lock in locks:\n",
    "        if checkFit(key, lock):\n",
    "            valid += 1\n",
    "\n",
    "valid\n"
   ]
  },
  {
   "cell_type": "code",
   "execution_count": 9,
   "metadata": {},
   "outputs": [
    {
     "data": {
      "text/plain": [
       "3307"
      ]
     },
     "execution_count": 9,
     "metadata": {},
     "output_type": "execute_result"
    }
   ],
   "source": [
    "with open('data/input/25.txt', 'r', encoding='utf-8') as f:\n",
    "    schematics = [s.split('\\n') for s in f.read().split('\\n\\n')]\n",
    "\n",
    "keys, locks = getHeights(schematics)\n",
    "\n",
    "valid = 0\n",
    "for key in keys:\n",
    "    for lock in locks:\n",
    "        if checkFit(key, lock):\n",
    "            valid += 1\n",
    "\n",
    "valid"
   ]
  }
 ],
 "metadata": {
  "kernelspec": {
   "display_name": "aoc_24",
   "language": "python",
   "name": "python3"
  },
  "language_info": {
   "codemirror_mode": {
    "name": "ipython",
    "version": 3
   },
   "file_extension": ".py",
   "mimetype": "text/x-python",
   "name": "python",
   "nbconvert_exporter": "python",
   "pygments_lexer": "ipython3",
   "version": "3.10.9"
  }
 },
 "nbformat": 4,
 "nbformat_minor": 2
}
