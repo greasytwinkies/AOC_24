{
 "cells": [
  {
   "cell_type": "code",
   "execution_count": 15,
   "metadata": {},
   "outputs": [],
   "source": [
    "# operation 0,1,2,3: execute the instruction 0 and pass in the number 1, execute the instruction 2 and pass in the number 3\n",
    "\n",
    "# literal operand: the literal value of the operand.\n",
    "# combo operands:\n",
    "\"\"\"\n",
    "    Combo operands 0 through 3 represent literal values 0 through 3.\n",
    "    Combo operand 4 represents the value of register A.\n",
    "    Combo operand 5 represents the value of register B.\n",
    "    Combo operand 6 represents the value of register C.\n",
    "    Combo operand 7 is reserved and will not appear in valid programs.\n",
    "\"\"\"\n",
    "\n",
    "# instructions: \n",
    "# 0: division -- numerator is value in the A register, denominator is 2^combo operand, return as integer (remove float points), store result in register A\n",
    "# 1: bitwise XOR of register B and literal operand, store result in register B\n",
    "# 2: combo operand % 8, write value to B register\n",
    "# 3: do nothing if A register == 0. otherwise, set instruction pointer to value of literal operand. if instruction jumps, do not increment instruction pointer by 2 as per default\n",
    "# 4: bitwise XOR of register B and C, store result in B. read in operand but do not use it \n",
    "# 5: combo operand % 8, output the value\n",
    "# 6: same as 0, except store result in B register. numerator is still read from A\n",
    "# 7: same as 0, except store result in C register. numerator is still read from A.\n",
    "from collections import deque\n",
    "import re\n",
    "class Computer:\n",
    "    def __init__(self, a: int, b: int, c: int, program: list):\n",
    "        self.a = a\n",
    "        self.b = b\n",
    "        self.c = c\n",
    "        self.program = program\n",
    "        self.output = \"\"\n",
    "\n",
    "    def setA(self, a: int):\n",
    "        self.a = a\n",
    "\n",
    "    @property\n",
    "    def c_operands(self):\n",
    "        return {0: 0,\n",
    "                1: 1,\n",
    "                2: 2,\n",
    "                3: 3,\n",
    "                4: self.a,\n",
    "                5: self.b,\n",
    "                6: self.c,\n",
    "                7: 7}\n",
    "\n",
    "\n",
    "    def executeProgram(self):\n",
    "        # maintain an instruction pointer\n",
    "        pointer = 0\n",
    "        while 0 <= pointer < len(self.program)-1:\n",
    "            # print(pointer)\n",
    "            pointer = self.executeInstruction(self.program[pointer], self.program[pointer+1], pointer)\n",
    "        # print(self.output)\n",
    "        return self.output\n",
    "        \n",
    "    \n",
    "    def executeInstruction(self, opcode: int, operand: int, pointer: int):\n",
    "        # return the pointer to next instruction\n",
    "        dv = self.a // (2**self.c_operands[operand])\n",
    "        # print(dv)\n",
    "        match opcode:\n",
    "            case 0:\n",
    "                if operand == 7:\n",
    "                    return pointer+2\n",
    "                self.a = dv\n",
    "            case 1: \n",
    "                self.b = self.b ^ operand\n",
    "            case 2:\n",
    "                if operand == 7:\n",
    "                    return pointer+2\n",
    "                self.b = self.c_operands[operand] % 8\n",
    "            case 3:\n",
    "                if self.a != 0:\n",
    "                    return operand\n",
    "            case 4:\n",
    "                self.b = self.b ^ self.c\n",
    "            case 5:\n",
    "                if operand == 7:\n",
    "                    return pointer+2\n",
    "                output = self.c_operands[operand] % 8\n",
    "                output = \",\".join([digit for digit in str(output)])\n",
    "                if not self.output:\n",
    "                    self.output = output\n",
    "                else:\n",
    "                    self.output = f\"{self.output},{output}\"\n",
    "            case 6:\n",
    "                self.b = dv\n",
    "            case 7:\n",
    "                self.c = dv\n",
    "        return pointer+2"
   ]
  },
  {
   "cell_type": "code",
   "execution_count": 75,
   "metadata": {},
   "outputs": [
    {
     "data": {
      "text/plain": [
       "'4,6,3,5,6,3,5,2,1,0'"
      ]
     },
     "execution_count": 75,
     "metadata": {},
     "output_type": "execute_result"
    }
   ],
   "source": [
    "with open('data/test/17.txt', 'r', encoding='utf-8') as f:\n",
    "    data = f.read()\n",
    "\n",
    "a = int(re.search(r'(?<=A: ).*', data).group())\n",
    "b = int(re.search(r'(?<=B: ).*', data).group())\n",
    "c = int(re.search(r'(?<=C: ).*', data).group())\n",
    "program = list(map(int, re.search(r'(?<=Program: ).*', data).group().split(',')))\n",
    "\n",
    "# print(a, b, c, program)\n",
    "\n",
    "part1 = Computer(a, b, c, program)\n",
    "part1.executeProgram()\n",
    "\n"
   ]
  },
  {
   "cell_type": "code",
   "execution_count": 76,
   "metadata": {},
   "outputs": [
    {
     "data": {
      "text/plain": [
       "'1,4,6,1,6,4,3,0,3'"
      ]
     },
     "execution_count": 76,
     "metadata": {},
     "output_type": "execute_result"
    }
   ],
   "source": [
    "with open('data/input/17.txt', 'r', encoding='utf-8') as f:\n",
    "    data = f.read()\n",
    "\n",
    "a = int(re.search(r'(?<=A: ).*', data).group())\n",
    "b = int(re.search(r'(?<=B: ).*', data).group())\n",
    "c = int(re.search(r'(?<=C: ).*', data).group())\n",
    "program = list(map(int, re.search(r'(?<=Program: ).*', data).group().split(',')))\n",
    "\n",
    "# print(a, b, c, program)\n",
    "\n",
    "part1 = Computer(a, b, c, program)\n",
    "part1.executeProgram()"
   ]
  },
  {
   "cell_type": "code",
   "execution_count": 23,
   "metadata": {},
   "outputs": [
    {
     "name": "stdout",
     "output_type": "stream",
     "text": [
      "117440\n"
     ]
    }
   ],
   "source": [
    "with open('data/test/17_1.txt', 'r', encoding='utf-8') as f:\n",
    "    data = f.read()\n",
    "\n",
    "program_str = re.search(r'(?<=Program: ).*', data).group()\n",
    "# print(program_str)\n",
    "\n",
    "a = 0\n",
    "b = int(re.search(r'(?<=B: ).*', data).group())\n",
    "c = int(re.search(r'(?<=C: ).*', data).group())\n",
    "program = list(map(int, program_str.split(',')))\n",
    "\n",
    "# print(a, b, c, program)\n",
    "while True:\n",
    "    part2 = Computer(a, b, c, program)\n",
    "    # print(part2.a)\n",
    "    output = part2.executeProgram() \n",
    "    if output == program_str:\n",
    "        break\n",
    "    else:\n",
    "        a += 1\n",
    "\n",
    "print(a)"
   ]
  },
  {
   "cell_type": "code",
   "execution_count": 21,
   "metadata": {},
   "outputs": [
    {
     "name": "stdout",
     "output_type": "stream",
     "text": [
      "2,4,1,7,7,5,1,7,4,6,0,3,5,5,3,0\n"
     ]
    },
    {
     "ename": "KeyboardInterrupt",
     "evalue": "",
     "output_type": "error",
     "traceback": [
      "\u001b[0;31m---------------------------------------------------------------------------\u001b[0m",
      "\u001b[0;31mKeyboardInterrupt\u001b[0m                         Traceback (most recent call last)",
      "Cell \u001b[0;32mIn[21], line 16\u001b[0m\n\u001b[1;32m     14\u001b[0m part2 \u001b[38;5;241m=\u001b[39m Computer(a, b, c, program)\n\u001b[1;32m     15\u001b[0m \u001b[38;5;66;03m# print(part2.a)\u001b[39;00m\n\u001b[0;32m---> 16\u001b[0m output \u001b[38;5;241m=\u001b[39m \u001b[43mpart2\u001b[49m\u001b[38;5;241;43m.\u001b[39;49m\u001b[43mexecuteProgram\u001b[49m\u001b[43m(\u001b[49m\u001b[43m)\u001b[49m \n\u001b[1;32m     17\u001b[0m \u001b[38;5;28;01mif\u001b[39;00m output \u001b[38;5;241m==\u001b[39m program_str:\n\u001b[1;32m     18\u001b[0m     \u001b[38;5;28;01mbreak\u001b[39;00m\n",
      "Cell \u001b[0;32mIn[15], line 52\u001b[0m, in \u001b[0;36mComputer.executeProgram\u001b[0;34m(self)\u001b[0m\n\u001b[1;32m     49\u001b[0m pointer \u001b[38;5;241m=\u001b[39m \u001b[38;5;241m0\u001b[39m\n\u001b[1;32m     50\u001b[0m \u001b[38;5;28;01mwhile\u001b[39;00m \u001b[38;5;241m0\u001b[39m \u001b[38;5;241m<\u001b[39m\u001b[38;5;241m=\u001b[39m pointer \u001b[38;5;241m<\u001b[39m \u001b[38;5;28mlen\u001b[39m(\u001b[38;5;28mself\u001b[39m\u001b[38;5;241m.\u001b[39mprogram)\u001b[38;5;241m-\u001b[39m\u001b[38;5;241m1\u001b[39m:\n\u001b[1;32m     51\u001b[0m     \u001b[38;5;66;03m# print(pointer)\u001b[39;00m\n\u001b[0;32m---> 52\u001b[0m     pointer \u001b[38;5;241m=\u001b[39m \u001b[38;5;28;43mself\u001b[39;49m\u001b[38;5;241;43m.\u001b[39;49m\u001b[43mexecuteInstruction\u001b[49m\u001b[43m(\u001b[49m\u001b[38;5;28;43mself\u001b[39;49m\u001b[38;5;241;43m.\u001b[39;49m\u001b[43mprogram\u001b[49m\u001b[43m[\u001b[49m\u001b[43mpointer\u001b[49m\u001b[43m]\u001b[49m\u001b[43m,\u001b[49m\u001b[43m \u001b[49m\u001b[38;5;28;43mself\u001b[39;49m\u001b[38;5;241;43m.\u001b[39;49m\u001b[43mprogram\u001b[49m\u001b[43m[\u001b[49m\u001b[43mpointer\u001b[49m\u001b[38;5;241;43m+\u001b[39;49m\u001b[38;5;241;43m1\u001b[39;49m\u001b[43m]\u001b[49m\u001b[43m,\u001b[49m\u001b[43m \u001b[49m\u001b[43mpointer\u001b[49m\u001b[43m)\u001b[49m\n\u001b[1;32m     53\u001b[0m \u001b[38;5;66;03m# print(self.output)\u001b[39;00m\n\u001b[1;32m     54\u001b[0m \u001b[38;5;28;01mreturn\u001b[39;00m \u001b[38;5;28mself\u001b[39m\u001b[38;5;241m.\u001b[39moutput\n",
      "Cell \u001b[0;32mIn[15], line 59\u001b[0m, in \u001b[0;36mComputer.executeInstruction\u001b[0;34m(self, opcode, operand, pointer)\u001b[0m\n\u001b[1;32m     57\u001b[0m \u001b[38;5;28;01mdef\u001b[39;00m \u001b[38;5;21mexecuteInstruction\u001b[39m(\u001b[38;5;28mself\u001b[39m, opcode: \u001b[38;5;28mint\u001b[39m, operand: \u001b[38;5;28mint\u001b[39m, pointer: \u001b[38;5;28mint\u001b[39m):\n\u001b[1;32m     58\u001b[0m     \u001b[38;5;66;03m# return the pointer to next instruction\u001b[39;00m\n\u001b[0;32m---> 59\u001b[0m     dv \u001b[38;5;241m=\u001b[39m \u001b[38;5;28mself\u001b[39m\u001b[38;5;241m.\u001b[39ma \u001b[38;5;241m/\u001b[39m\u001b[38;5;241m/\u001b[39m (\u001b[38;5;241;43m2\u001b[39;49m\u001b[38;5;241;43m*\u001b[39;49m\u001b[38;5;241;43m*\u001b[39;49m\u001b[38;5;28;43mself\u001b[39;49m\u001b[38;5;241;43m.\u001b[39;49m\u001b[43mc_operands\u001b[49m\u001b[43m[\u001b[49m\u001b[43moperand\u001b[49m\u001b[43m]\u001b[49m)\n\u001b[1;32m     60\u001b[0m     \u001b[38;5;66;03m# print(dv)\u001b[39;00m\n\u001b[1;32m     61\u001b[0m     \u001b[38;5;28;01mmatch\u001b[39;00m opcode:\n",
      "\u001b[0;31mKeyboardInterrupt\u001b[0m: "
     ]
    }
   ],
   "source": [
    "with open('data/input/17.txt', 'r', encoding='utf-8') as f:\n",
    "    data = f.read()\n",
    "\n",
    "program_str = re.search(r'(?<=Program: ).*', data).group()\n",
    "# print(program_str)\n",
    "\n",
    "a = 0\n",
    "b = int(re.search(r'(?<=B: ).*', data).group())\n",
    "c = int(re.search(r'(?<=C: ).*', data).group())\n",
    "program = list(map(int, program_str.split(',')))\n",
    "\n",
    "# print(a, b, c, program)\n",
    "while True:\n",
    "    part2 = Computer(a, b, c, program)\n",
    "    # print(part2.a)\n",
    "    output = part2.executeProgram() \n",
    "    if output == program_str:\n",
    "        break\n",
    "    else:\n",
    "        a += 1"
   ]
  }
 ],
 "metadata": {
  "kernelspec": {
   "display_name": "aoc_24",
   "language": "python",
   "name": "python3"
  },
  "language_info": {
   "codemirror_mode": {
    "name": "ipython",
    "version": 3
   },
   "file_extension": ".py",
   "mimetype": "text/x-python",
   "name": "python",
   "nbconvert_exporter": "python",
   "pygments_lexer": "ipython3",
   "version": "3.10.9"
  }
 },
 "nbformat": 4,
 "nbformat_minor": 2
}
