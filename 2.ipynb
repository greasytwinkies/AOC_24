{
 "cells": [
  {
   "cell_type": "code",
   "execution_count": 2,
   "metadata": {},
   "outputs": [],
   "source": [
    "# levels must be either all increasing or decreasing\n",
    "# difference between levels must be at least and at most three\n",
    "\n",
    "# maintain a counter for valid reports\n",
    "# iterate over each report\n",
    "# first check that last level of report is within valid range of first level -- we can immediately skip those that are not\n",
    "# from this initial check, we can also derive the direction of the report\n",
    "# using this direction, we can check the individual elements\n",
    "\n",
    "class Report:\n",
    "    min_diff = 1\n",
    "    max_diff = 3\n",
    "    def __init__(self, levels: list):\n",
    "        self.levels = levels\n",
    "\n",
    "    def check_first_and_last(self):\n",
    "        first = self.levels[0]\n",
    "        last = self.levels[-1]\n",
    "        return self.min_diff * (len(self.levels)-1) <= abs(first-last) <= self.max_diff * (len(self.levels)-1)\n",
    "\n",
    "    def is_increasing(self):\n",
    "        if self.levels[-1] > self.levels[0]:\n",
    "            return True\n",
    "        elif self.levels[-1] < self.levels[0]:\n",
    "            return False\n",
    "        \n",
    "    def get_pairs(self):\n",
    "        pairs = []\n",
    "        for i, item in enumerate(self.levels[:-1]):\n",
    "            pairs.append((item, self.levels[i+1]))\n",
    "        return pairs\n",
    "    \n",
    "    def check_pairs(self):\n",
    "        pairs = self.get_pairs()\n",
    "        increasing = self.is_increasing()\n",
    "        for (item1, item2) in pairs:\n",
    "            diff = item2 - item1\n",
    "            if increasing:\n",
    "                # check if difference between two elements is valid\n",
    "                if diff > 3 or diff < 1:\n",
    "                    return False\n",
    "            else:\n",
    "                if diff < -3 or diff > -1:\n",
    "                    return False\n",
    "        # if everything ok, return True\n",
    "        return True\n",
    "\n",
    "    def check_valid_report(self):\n",
    "        # check first and last elements first\n",
    "        if not self.check_first_and_last():\n",
    "            return False\n",
    "        else:\n",
    "            # check individual elements \n",
    "            return self.check_pairs()\n",
    "    "
   ]
  },
  {
   "cell_type": "code",
   "execution_count": 3,
   "metadata": {},
   "outputs": [
    {
     "name": "stdout",
     "output_type": "stream",
     "text": [
      "2\n"
     ]
    }
   ],
   "source": [
    "# test on test data\n",
    "with open('data/test/2.txt', 'r', encoding='utf-8') as f:\n",
    "    reports = f.read().splitlines()\n",
    "    reports_list = [list(map(int, report.split())) for report in reports]\n",
    "\n",
    "# print(reports)\n",
    "# print(reports_list)\n",
    "\n",
    "valid_reports = 0\n",
    "for report in reports_list:\n",
    "    rep = Report(report)\n",
    "    if rep.check_valid_report():\n",
    "        valid_reports += 1\n",
    "\n",
    "print(valid_reports)"
   ]
  },
  {
   "cell_type": "code",
   "execution_count": null,
   "metadata": {},
   "outputs": [
    {
     "name": "stdout",
     "output_type": "stream",
     "text": [
      "282\n"
     ]
    }
   ],
   "source": [
    "# now on actual data\n",
    "with open('data/input/2.txt', 'r', encoding='utf-8') as f:\n",
    "    reports = f.read().splitlines()\n",
    "    reports_list = [list(map(int, report.split())) for report in reports]\n",
    "\n",
    "valid_reports = 0\n",
    "for report in reports_list:\n",
    "    rep = Report(report)\n",
    "    if rep.check_valid_report():\n",
    "        valid_reports += 1\n",
    "\n",
    "print(valid_reports)"
   ]
  },
  {
   "cell_type": "code",
   "execution_count": 5,
   "metadata": {},
   "outputs": [
    {
     "name": "stdout",
     "output_type": "stream",
     "text": [
      "349\n"
     ]
    }
   ],
   "source": [
    "# we can modify the original report class to account for reports that have one or zero invalid indices\n",
    "\n",
    "class Report_part2(Report):\n",
    "    def check_pairs(self):\n",
    "        pairs = self.get_pairs()\n",
    "        increasing = self.is_increasing()\n",
    "        invalid_indices = []\n",
    "        for index, (item1, item2) in enumerate(pairs):\n",
    "            diff = item2 - item1\n",
    "            if increasing:\n",
    "                # check if difference between two elements is valid\n",
    "                if diff > 3 or diff < 1:\n",
    "                    invalid_indices.append(index)\n",
    "            else:\n",
    "                if diff < -3 or diff > -1:\n",
    "                    invalid_indices.append(index)\n",
    "            if len(invalid_indices) > 1:\n",
    "                return False # no chance for this report to be valid\n",
    "        if invalid_indices or invalid_indices == []:\n",
    "            return True\n",
    "        \n",
    "with open('data/input/2.txt', 'r', encoding='utf-8') as f:\n",
    "    reports = f.read().splitlines()\n",
    "    reports_list = [list(map(int, report.split())) for report in reports]\n",
    "\n",
    "valid_reports = 0\n",
    "for report in reports_list:\n",
    "    rep = Report_part2(report)\n",
    "    if rep.check_valid_report():\n",
    "        valid_reports += 1\n",
    "\n",
    "print(valid_reports)"
   ]
  }
 ],
 "metadata": {
  "kernelspec": {
   "display_name": "aoc_24",
   "language": "python",
   "name": "python3"
  },
  "language_info": {
   "codemirror_mode": {
    "name": "ipython",
    "version": 3
   },
   "file_extension": ".py",
   "mimetype": "text/x-python",
   "name": "python",
   "nbconvert_exporter": "python",
   "pygments_lexer": "ipython3",
   "version": "3.10.9"
  }
 },
 "nbformat": 4,
 "nbformat_minor": 2
}
