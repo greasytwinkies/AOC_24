{
 "cells": [
  {
   "cell_type": "code",
   "execution_count": null,
   "metadata": {},
   "outputs": [],
   "source": [
    "# two lists, pair up smallest number of first list with smallest number of second list, second smallest with second smallest, etc.\n",
    "# calculate distance between corresponding numbers of list\n",
    "# sum up distances"
   ]
  },
  {
   "cell_type": "code",
   "execution_count": null,
   "metadata": {},
   "outputs": [
    {
     "name": "stdout",
     "output_type": "stream",
     "text": [
      "11\n"
     ]
    }
   ],
   "source": [
    "# test data\n",
    "test_str = \"\"\"3   4\n",
    "4   3\n",
    "2   5\n",
    "1   3\n",
    "3   9\n",
    "3   3\"\"\"\n",
    "\n",
    "# convert text into two separate lists\n",
    "# sort lists\n",
    "# iterate over size of list and get distances\n",
    "# sum up distances of lists\n",
    "\n",
    "def convert_str_to_lists(input_str: str):\n",
    "    list1 = []\n",
    "    list2 = []\n",
    "    lines = [line for line in input_str.split('\\n')]\n",
    "    # print(lines)\n",
    "    for line in lines:\n",
    "        # extract numbers from each line\n",
    "        nums = [int(num) for num in line.split()]\n",
    "        first, second = nums\n",
    "        list1.append(first)\n",
    "        list2.append(second)\n",
    "        # print(first, second)\n",
    "        # print(nums)\n",
    "    # print(list1, list2)\n",
    "    list1 = sorted(list1)\n",
    "    list2 = sorted(list2)\n",
    "    # print(list1, list2)\n",
    "    return list1, list2\n",
    "\n",
    "list1, list2 = convert_str_to_lists(test_str)\n",
    "\n",
    "# iterate over lists\n",
    "total_dist = 0\n",
    "for i, num in enumerate(list1):\n",
    "    dist = abs(num - list2[i])\n",
    "    # print(dist)\n",
    "    total_dist += dist\n",
    "print(total_dist)"
   ]
  },
  {
   "cell_type": "code",
   "execution_count": null,
   "metadata": {},
   "outputs": [
    {
     "name": "stdout",
     "output_type": "stream",
     "text": [
      "2000468\n"
     ]
    }
   ],
   "source": [
    "# part 1\n",
    "with open('1_1.txt', 'r', encoding='utf-8') as f:\n",
    "    data = f.read()\n",
    "\n",
    "list1, list2 = convert_str_to_lists(data)\n",
    "total_dist = 0\n",
    "for i, num in enumerate(list1):\n",
    "    dist = abs(num - list2[i])\n",
    "    # print(dist)\n",
    "    total_dist += dist\n",
    "print(total_dist)"
   ]
  },
  {
   "cell_type": "code",
   "execution_count": null,
   "metadata": {},
   "outputs": [
    {
     "name": "stdout",
     "output_type": "stream",
     "text": [
      "31\n",
      "18567089\n"
     ]
    }
   ],
   "source": [
    "# part 2: similarity scores\n",
    "# iterate over each number in the left list\n",
    "# calculate how many times that number appears in the right list\n",
    "# multiply by left number for similarity score\n",
    "def total_freq_score(list1: list, list2: list):\n",
    "    total_score = 0\n",
    "    for i in list1:\n",
    "        right_list_freq = list2.count(i)\n",
    "        total_score += i * right_list_freq\n",
    "    print(total_score)\n",
    "\n",
    "# try on test data\n",
    "total_freq_score(*convert_str_to_lists(test_str))\n",
    "\n",
    "# dataset\n",
    "total_freq_score(*convert_str_to_lists(data))"
   ]
  }
 ],
 "metadata": {
  "kernelspec": {
   "display_name": "aoc_24",
   "language": "python",
   "name": "python3"
  },
  "language_info": {
   "codemirror_mode": {
    "name": "ipython",
    "version": 3
   },
   "file_extension": ".py",
   "mimetype": "text/x-python",
   "name": "python",
   "nbconvert_exporter": "python",
   "pygments_lexer": "ipython3",
   "version": "3.10.9"
  }
 },
 "nbformat": 4,
 "nbformat_minor": 2
}
