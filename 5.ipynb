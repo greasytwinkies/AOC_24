{
 "cells": [
  {
   "cell_type": "code",
   "execution_count": 62,
   "metadata": {},
   "outputs": [],
   "source": [
    "# we can convert the rules into before, after dictionaries\n",
    "# then also convert each update into a list format\n",
    "# iterate over each element of each update\n",
    "# then check the two sides of the list from the element with the rule dictionaries\n",
    "\n",
    "def parse_input(input_str: str):\n",
    "    rules_str, updates = input_str.split('\\n\\n')\n",
    "    # parse updates into list format\n",
    "    update_list = []\n",
    "    for update_str in updates.split('\\n'):\n",
    "        update = []\n",
    "        for page in update_str.split(','):\n",
    "            update.append(int(page))\n",
    "        update_list.append(update)\n",
    "\n",
    "    # print(update_list)\n",
    "\n",
    "    # parse rules into dictionaries\n",
    "    \n",
    "    # before_dict: keys must come before values\n",
    "    before_dict = dict()\n",
    "    # after_dict: keys come after values\n",
    "    after_dict = dict()\n",
    "\n",
    "    for line in rules_str.split('\\n'):\n",
    "        [before, after] = [int(page) for page in line.split('|')]\n",
    "        if before in before_dict:\n",
    "            before_dict[before].append(after)\n",
    "        else:\n",
    "            before_dict[before] = [after]\n",
    "        if after in after_dict:\n",
    "            after_dict[after].append(before)\n",
    "        else:\n",
    "            after_dict[after] = [before]\n",
    "\n",
    "    # print(before_dict)\n",
    "    # print(after_dict)\n",
    "    \n",
    "    return update_list, before_dict, after_dict\n",
    "\n",
    "class Manual:\n",
    "    def __init__(self, update_list: list, before_rules: dict, after_rules: dict):\n",
    "        self.update_list = update_list\n",
    "        self.before_rules = before_rules\n",
    "        self.after_rules = after_rules\n",
    "\n",
    "    def checkUpdate(self, update: list):\n",
    "        for index, element in enumerate(update):\n",
    "            # splice the list into two parts, before and after element\n",
    "            if index > 0:\n",
    "                pre = update[:index] # list of numbers in the update set that come before the current num \n",
    "                # hence, none of these same numbers should be in the corresponding before_dict value\n",
    "                for item in pre:\n",
    "                    if item in self.before_rules.get(element, []):\n",
    "                        return False\n",
    "        \n",
    "            if index < len(update)-1:\n",
    "                post = update[index+1:]\n",
    "                for item in post:\n",
    "                    if item in self.after_rules.get(element, []):\n",
    "                        return False\n",
    "\n",
    "        return True\n",
    "    \n",
    "    def getMiddleNumber(self, update: list):\n",
    "        # assumption is that list is of odd number length\n",
    "        middle_index = int(len(update) / 2)\n",
    "        return update[middle_index]\n",
    "    \n",
    "    def part1(self):\n",
    "        valid_updates = [update for update in self.update_list if self.checkUpdate(update)]\n",
    "        sum_of_middle_nums = sum([self.getMiddleNumber(update) for update in valid_updates])\n",
    "        return sum_of_middle_nums"
   ]
  },
  {
   "cell_type": "code",
   "execution_count": 63,
   "metadata": {},
   "outputs": [
    {
     "data": {
      "text/plain": [
       "143"
      ]
     },
     "execution_count": 63,
     "metadata": {},
     "output_type": "execute_result"
    }
   ],
   "source": [
    "with open('data/test/5.txt', 'r', encoding='utf-8') as f:\n",
    "    input_str = f.read()\n",
    "\n",
    "update_list, before_dict, after_dict = parse_input(input_str)\n",
    "manual = Manual(update_list, before_dict, after_dict)\n",
    "manual.part1()\n"
   ]
  },
  {
   "cell_type": "code",
   "execution_count": 64,
   "metadata": {},
   "outputs": [
    {
     "data": {
      "text/plain": [
       "5091"
      ]
     },
     "execution_count": 64,
     "metadata": {},
     "output_type": "execute_result"
    }
   ],
   "source": [
    "with open('data/input/5.txt', 'r', encoding='utf-8') as f:\n",
    "    input_str = f.read()\n",
    "\n",
    "update_list, before_dict, after_dict = parse_input(input_str)\n",
    "manual = Manual(update_list, before_dict, after_dict)\n",
    "manual.part1()"
   ]
  },
  {
   "cell_type": "code",
   "execution_count": 65,
   "metadata": {},
   "outputs": [],
   "source": [
    "#part2\n",
    "from collections import deque\n",
    "from tqdm.notebook import tqdm\n",
    "\n",
    "class Manual2(Manual):\n",
    "    def fixUpdate(self, update: list):\n",
    "        sorted_list = []\n",
    "        # pop numbers off a deque\n",
    "        # if number is in order, add to new list \n",
    "        # if number not in order, add to other end of deque\n",
    "        # loop over deque until solved \n",
    "\n",
    "        dq = deque()\n",
    "        for item in update:\n",
    "            dq.append(item)\n",
    "\n",
    "        while dq:\n",
    "            a = dq.pop()\n",
    "            # check if a is in order (ie. everything before it in the deque is legally there)\n",
    "            # if not in order, move to other end of deque\n",
    "            # if in order, move to sorted list\n",
    "            in_order = True\n",
    "            for item in self.before_rules.get(a, []): # comparing what should come after the popped item with the set of numbers that actually come before the popped item in the deque\n",
    "                if item in dq:\n",
    "                    dq.appendleft(a)\n",
    "                    in_order = False\n",
    "                    break\n",
    "            if in_order:\n",
    "                sorted_list.append(a)\n",
    "\n",
    "        return sorted_list\n",
    "\n",
    "    def part2(self):\n",
    "        invalid_updates = [update for update in self.update_list if not self.checkUpdate(update)]\n",
    "        # print(invalid_updates)\n",
    "        fixed_updates = [self.fixUpdate(update) for update in invalid_updates]\n",
    "        # print(fixed_updates)\n",
    "        sum_of_middle_nums = sum([self.getMiddleNumber(update) for update in fixed_updates])\n",
    "        return sum_of_middle_nums\n",
    "\n"
   ]
  },
  {
   "cell_type": "code",
   "execution_count": 66,
   "metadata": {},
   "outputs": [
    {
     "data": {
      "text/plain": [
       "123"
      ]
     },
     "execution_count": 66,
     "metadata": {},
     "output_type": "execute_result"
    }
   ],
   "source": [
    "with open('data/test/5.txt', 'r', encoding='utf-8') as f:\n",
    "    input_str = f.read()\n",
    "\n",
    "update_list, before_dict, after_dict = parse_input(input_str)\n",
    "manual = Manual2(update_list, before_dict, after_dict)\n",
    "manual.part2()"
   ]
  },
  {
   "cell_type": "code",
   "execution_count": 67,
   "metadata": {},
   "outputs": [
    {
     "data": {
      "text/plain": [
       "4681"
      ]
     },
     "execution_count": 67,
     "metadata": {},
     "output_type": "execute_result"
    }
   ],
   "source": [
    "with open('data/input/5.txt', 'r', encoding='utf-8') as f:\n",
    "    input_str = f.read()\n",
    "\n",
    "update_list, before_dict, after_dict = parse_input(input_str)\n",
    "manual = Manual2(update_list, before_dict, after_dict)\n",
    "manual.part2()"
   ]
  }
 ],
 "metadata": {
  "kernelspec": {
   "display_name": "aoc_24",
   "language": "python",
   "name": "python3"
  },
  "language_info": {
   "codemirror_mode": {
    "name": "ipython",
    "version": 3
   },
   "file_extension": ".py",
   "mimetype": "text/x-python",
   "name": "python",
   "nbconvert_exporter": "python",
   "pygments_lexer": "ipython3",
   "version": "3.10.9"
  }
 },
 "nbformat": 4,
 "nbformat_minor": 2
}
