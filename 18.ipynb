{
 "cells": [
  {
   "cell_type": "code",
   "execution_count": null,
   "metadata": {},
   "outputs": [],
   "source": [
    "# read in byte positions from input, flip x and y values\n",
    "from collections import deque\n",
    "def byteFall(byte_list: list, first_x: int, grid_size: int):\n",
    "    grid = [['.' for _ in range(grid_size)] for _ in range(grid_size)]\n",
    "    for (x, y) in byte_list[:first_x]:\n",
    "        grid[y][x] = \"#\"\n",
    "\n",
    "    return grid\n",
    "\n",
    "def getNeighbors(curr: tuple, grid_size: int, visited: set, grid: list):\n",
    "    (row, col) = curr\n",
    "    nbs = [(row-1, col), (row+1, col), (row, col-1), (row, col+1)]\n",
    "    valid = []\n",
    "    for n in nbs:\n",
    "        (r, c) = n\n",
    "        if n not in visited and 0 <= r <= grid_size-1 and 0 <= c <= grid_size-1 and grid[r][c] != \"#\":\n",
    "            valid.append(n)\n",
    "\n",
    "    return valid\n",
    "\n",
    "\n",
    "# bfs from the top left position to bottom left\n",
    "def BFS(grid: list):\n",
    "    grid_size = len(grid)\n",
    "    start = [(0, 0), 0] # last element denotes the level in the BFS\n",
    "    end = (len(grid)-1, len(grid)-1)\n",
    "    # queue the start node \n",
    "    q = deque()\n",
    "    q.append(start)\n",
    "    visited = set()\n",
    "    while q:\n",
    "        # pop from queue\n",
    "        curr = q.popleft()\n",
    "        # add to visited\n",
    "        # check if end node has been reached\n",
    "        if curr[0] == end:\n",
    "            return curr[-1]\n",
    "        # if end has not been reached, queue unvisited neighbors of node\n",
    "        for n in getNeighbors(curr[0], grid_size, visited, grid):\n",
    "            # add to visited\n",
    "            visited.add(n)\n",
    "            q.append([n, curr[-1] + 1])\n",
    "\n",
    "    # no route found, return -1\n",
    "    return -1"
   ]
  },
  {
   "cell_type": "code",
   "execution_count": 44,
   "metadata": {},
   "outputs": [
    {
     "data": {
      "text/plain": [
       "22"
      ]
     },
     "execution_count": 44,
     "metadata": {},
     "output_type": "execute_result"
    }
   ],
   "source": [
    "with open('data/test/18.txt', 'r', encoding='utf-8') as f:\n",
    "    byt = f.read().splitlines()\n",
    "\n",
    "byt = [tuple([int(i) for i in b.split(',')]) for b in byt]\n",
    "# print(byt)\n",
    "grid = byteFall(byt, 12, 7)\n",
    "# print(*grid, sep='\\n')\n",
    "BFS(grid)"
   ]
  },
  {
   "cell_type": "code",
   "execution_count": 45,
   "metadata": {},
   "outputs": [
    {
     "data": {
      "text/plain": [
       "340"
      ]
     },
     "execution_count": 45,
     "metadata": {},
     "output_type": "execute_result"
    }
   ],
   "source": [
    "with open('data/input/18.txt', 'r', encoding='utf-8') as f:\n",
    "    byt = f.read().splitlines()\n",
    "\n",
    "byt = [tuple([int(i) for i in b.split(',')]) for b in byt]\n",
    "# print(byt)\n",
    "grid = byteFall(byt, 1024, 70+1)\n",
    "# print(*grid, sep='\\n')\n",
    "BFS(grid)"
   ]
  },
  {
   "cell_type": "code",
   "execution_count": null,
   "metadata": {},
   "outputs": [
    {
     "name": "stdout",
     "output_type": "stream",
     "text": [
      "(63, 9)\n"
     ]
    }
   ],
   "source": [
    "# part 2: continue utilizing the same grid as above\n",
    "# continue iterating over the bytes\n",
    "# drop the byte on the grid and run bfs again\n",
    "# if bfs returns -1, print the byte\n",
    "for b in byt[1024:]:\n",
    "    (row, col) = b\n",
    "    # print(b)\n",
    "    grid[col][row] = \"#\"\n",
    "    if BFS(grid) == -1:\n",
    "        print(f\"{row},{col}\")\n",
    "        break\n"
   ]
  }
 ],
 "metadata": {
  "kernelspec": {
   "display_name": "aoc_24",
   "language": "python",
   "name": "python3"
  },
  "language_info": {
   "codemirror_mode": {
    "name": "ipython",
    "version": 3
   },
   "file_extension": ".py",
   "mimetype": "text/x-python",
   "name": "python",
   "nbconvert_exporter": "python",
   "pygments_lexer": "ipython3",
   "version": "3.10.9"
  }
 },
 "nbformat": 4,
 "nbformat_minor": 2
}
