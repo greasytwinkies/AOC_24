{
 "cells": [
  {
   "cell_type": "code",
   "execution_count": 117,
   "metadata": {},
   "outputs": [],
   "source": [
    "# we have a sample list of default gate values\n",
    "# and also a list of operations\n",
    "\n",
    "# some of the gates in the operations are not provided in the default list\n",
    "# we can turn the list operations into a queue, and only carry out the operation if all gates already have values\n",
    "# if not, we just pop the gate from the queue and append it to the other side\n",
    "# we also convert the default gates to a dictionary, and update it as we complete it as we complete any operation\n",
    "import re\n",
    "from collections import deque\n",
    "class Device:\n",
    "    regex = re.compile(r'(\\w+) (OR|XOR|AND) (\\w+) -> (\\w+)')\n",
    "    def __init__(self, input_str: str):\n",
    "        [gates, operations] = input_str.split('\\n\\n')\n",
    "        gates = [(gate.split(': ')) for gate in gates.split('\\n')]\n",
    "        gates = {gate[0]: int(gate[-1]) for gate in gates}\n",
    "        # print(gates)\n",
    "        operations = [op for op in re.findall(self.regex, operations)]\n",
    "        # print(operations)\n",
    "        self.gates = gates\n",
    "        self.operations = deque(operations)\n",
    "\n",
    "    def completeOperations(self):\n",
    "        while self.operations:\n",
    "            # pop first item in operations\n",
    "            curr = self.operations.pop()\n",
    "            (gate1, op, gate2, out) = curr\n",
    "            # print(curr)\n",
    "            # print(self.gates)\n",
    "            # check if both arguments are already in gates\n",
    "            if gate1 in self.gates and gate2 in self.gates:\n",
    "                # do the operation\n",
    "                match op:\n",
    "                    case \"AND\":\n",
    "                        self.gates[out] = self.gates[gate1] & self.gates[gate2]\n",
    "                    case \"OR\":\n",
    "                        self.gates[out] = self.gates[gate1] | self.gates[gate2]\n",
    "                    case \"XOR\":\n",
    "                        self.gates[out] = self.gates[gate1] ^ self.gates[gate2]\n",
    "            # if both arguments are not already in gates, then move to other side of queue\n",
    "            else:\n",
    "                self.operations.appendleft(curr)\n",
    "        # print(self.gates)\n",
    "\n",
    "    def getDecimalNumber(self, letter: str = 'z'):\n",
    "        # filter the keys to those that start with letter\n",
    "        filtered = {int(k[1:]): v for k,v in self.gates.items() if k.startswith(letter)}\n",
    "        bi = ['' for _ in range(max(filtered)+1)]\n",
    "        for k,v in filtered.items():\n",
    "            bi[k] = str(v)\n",
    "\n",
    "        bi = \"\".join(bi[::-1])\n",
    "\n",
    "        # print(bi)\n",
    "\n",
    "        return int(bi, 2)\n",
    "        \n",
    "        \n",
    "        \n",
    "\n",
    "\n",
    "\n",
    "\n"
   ]
  },
  {
   "cell_type": "code",
   "execution_count": 118,
   "metadata": {},
   "outputs": [
    {
     "data": {
      "text/plain": [
       "4"
      ]
     },
     "execution_count": 118,
     "metadata": {},
     "output_type": "execute_result"
    }
   ],
   "source": [
    "with open('data/test/24.txt', 'r', encoding='utf-8') as f:\n",
    "    data = f.read()\n",
    "\n",
    "part1 = Device(data)\n",
    "part1.completeOperations()\n",
    "part1.getDecimalNumber()"
   ]
  },
  {
   "cell_type": "code",
   "execution_count": 119,
   "metadata": {},
   "outputs": [
    {
     "data": {
      "text/plain": [
       "2024"
      ]
     },
     "execution_count": 119,
     "metadata": {},
     "output_type": "execute_result"
    }
   ],
   "source": [
    "with open('data/test/24_1.txt', 'r', encoding='utf-8') as f:\n",
    "    data = f.read()\n",
    "\n",
    "part1 = Device(data)\n",
    "part1.completeOperations()\n",
    "part1.getDecimalNumber()"
   ]
  },
  {
   "cell_type": "code",
   "execution_count": 121,
   "metadata": {},
   "outputs": [
    {
     "data": {
      "text/plain": [
       "51107420031718"
      ]
     },
     "execution_count": 121,
     "metadata": {},
     "output_type": "execute_result"
    }
   ],
   "source": [
    "with open('data/input/24.txt', 'r', encoding='utf-8') as f:\n",
    "    data = f.read()\n",
    "\n",
    "part1 = Device(data)\n",
    "part1.completeOperations()\n",
    "part1.getDecimalNumber()"
   ]
  }
 ],
 "metadata": {
  "kernelspec": {
   "display_name": "aoc_24",
   "language": "python",
   "name": "python3"
  },
  "language_info": {
   "codemirror_mode": {
    "name": "ipython",
    "version": 3
   },
   "file_extension": ".py",
   "mimetype": "text/x-python",
   "name": "python",
   "nbconvert_exporter": "python",
   "pygments_lexer": "ipython3",
   "version": "3.10.9"
  }
 },
 "nbformat": 4,
 "nbformat_minor": 2
}
