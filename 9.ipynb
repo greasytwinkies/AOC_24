{
 "cells": [
  {
   "cell_type": "code",
   "execution_count": 53,
   "metadata": {},
   "outputs": [],
   "source": [
    "# first, we need to parse the input string into block/space format\n",
    "# then, we need to fill in the empty spaces in disk\n",
    "# we will know when the disk has finished sorting when there is a contiguous block of numbers from the start of the disk that matches up with the total number of blocks in the disk\n",
    "\n",
    "# to parse the string, we just need to split the input string into separate groups of odd and even indexes\n",
    "from collections import deque\n",
    "class Disk:\n",
    "    def __init__(self, input_string: str):\n",
    "        self.input = input_string\n",
    "\n",
    "    def parseInput(self):\n",
    "        space = []\n",
    "        blocks = []\n",
    "        for idx, char in enumerate(self.input):\n",
    "            if idx % 2 == 0:\n",
    "                # block\n",
    "                blocks.append(int(char))\n",
    "            else:\n",
    "                # space\n",
    "                space.append(int(char))\n",
    "        if len(space) != len(blocks):\n",
    "            space.append(0)\n",
    "        else:\n",
    "            if space[-1] == 0:\n",
    "                blocks[-1] = int(str(blocks[-1]) + '0')\n",
    "        # combine the lists together\n",
    "        files = list(zip(blocks, space))\n",
    "        # print(files)\n",
    "        # print(files)\n",
    "        # convert into the block/space format\n",
    "        # disk = \"\"\n",
    "        disk = []\n",
    "        for idx, (block, space) in enumerate(files):\n",
    "            # disk += str(idx) * block + \".\" * space\n",
    "            for _ in range(block):\n",
    "                disk.append(idx)\n",
    "            for _ in range(space):\n",
    "                disk.append(\".\")\n",
    "        # print(disk)\n",
    "        return disk\n",
    "    \n",
    "    def rearrangeDisk(self):\n",
    "        disk = self.parseInput()\n",
    "        # print(disk)\n",
    "        files = deque(char for char in disk if char != '.')\n",
    "        # print(files)\n",
    "        num_files = len(files)\n",
    "        while \".\" in disk[:num_files]:\n",
    "        # while not \"\".join(disk[:num_files]).isnumeric():\n",
    "            # pop from the right side of the deque and slot it in the earliest space slot\n",
    "            space = disk.index('.')\n",
    "            disk[space] = files.pop()\n",
    "\n",
    "\n",
    "        # we need to replace the popped files with empty spaces\n",
    "        disk = [\".\" if idx >= num_files else char for idx, char in enumerate(disk)]\n",
    "        return disk\n",
    "    \n",
    "    def getChecksum(self):\n",
    "        disk = [char for char in self.rearrangeDisk() if char != \".\"]\n",
    "        checksum = 0\n",
    "        for idx, file_ID in enumerate(disk):\n",
    "            checksum += idx * file_ID\n",
    "\n",
    "        return checksum"
   ]
  },
  {
   "cell_type": "code",
   "execution_count": 12,
   "metadata": {},
   "outputs": [
    {
     "data": {
      "text/plain": [
       "1928"
      ]
     },
     "execution_count": 12,
     "metadata": {},
     "output_type": "execute_result"
    }
   ],
   "source": [
    "with open('data/test/9.txt', 'r', encoding='utf-8') as f:\n",
    "    input_str = f.read()\n",
    "\n",
    "disk = Disk(input_str)\n",
    "disk.getChecksum()"
   ]
  },
  {
   "cell_type": "code",
   "execution_count": 13,
   "metadata": {},
   "outputs": [
    {
     "data": {
      "text/plain": [
       "6471961544878"
      ]
     },
     "execution_count": 13,
     "metadata": {},
     "output_type": "execute_result"
    }
   ],
   "source": [
    "with open('data/input/9.txt', 'r', encoding='utf-8') as f:\n",
    "    input_str = f.read()\n",
    "\n",
    "disk = Disk(input_str)\n",
    "disk.getChecksum()"
   ]
  },
  {
   "cell_type": "code",
   "execution_count": 58,
   "metadata": {},
   "outputs": [],
   "source": [
    "# part 2: loop over all IDs starting from largest to smallest\n",
    "# get the start and end indices of the ID chain\n",
    "# look for empty space of same size as chain in the part of the list before the ID sequence\n",
    "# if there is empty space, shift the chain to the left and replace the original set with empty space\n",
    "from itertools import groupby\n",
    "class Disk2(Disk):\n",
    "    def rearrangeDisk(self):\n",
    "        disk = self.parseInput()\n",
    "        # find sequences and lengths\n",
    "        # seqs = [(key, length), ...]\n",
    "        seqs = [(key, len(list(val))) for key, val in groupby(disk)]\n",
    "        # find start positions of sequences\n",
    "        # seqs = [(key, start, length), ...]\n",
    "        seqs = [(key, sum(s[1] for s in seqs[:i]), len) for i, (key, len) in enumerate(seqs)]\n",
    "        # print(seqs)\n",
    "        seq_dict = dict()\n",
    "        for seq in seqs:\n",
    "            if seq[0] != \".\":\n",
    "                seq_dict[seq[0]] = (seq[1], seq[1] + seq[2] - 1)\n",
    "\n",
    "        # print(seq_dict)\n",
    "        # sort the dictionary in reverse order\n",
    "        sorted_dict = dict(sorted(seq_dict.items(), reverse=True))\n",
    "\n",
    "        # print(sorted_dict)\n",
    "\n",
    "        # loop over the pairs\n",
    "        for k, (start, end) in sorted_dict.items():\n",
    "            seq_len = end - start + 1\n",
    "            # look for a sequence of spaces in disk that matches this length\n",
    "            # we need to first assert that the sequence is in the list\n",
    "            sublist = list(\".\") * seq_len\n",
    "            # narrow the search space to only the left side of the sequence\n",
    "            search_space = disk[:start]\n",
    "            space = next(((i, i+seq_len-1) for i, _ in enumerate(disk) if search_space[i:i+seq_len] == sublist), None)\n",
    "            # print(space)\n",
    "            if space:\n",
    "                # fill the space with the sequence\n",
    "                # replace the original sequence with spaces\n",
    "                disk[space[0]:space[1]+1] = [k] * seq_len\n",
    "                disk[start: end+1] = sublist\n",
    "                 \n",
    "        return disk\n",
    "            # print(disk)\n",
    "            # # print(sublist)\n",
    "            # # break\n",
    "            # if sublist in disk:\n",
    "            #     print(\"Test\")\n",
    "            #     break\n",
    "\n",
    "    def getChecksum(self):\n",
    "        checksum = 0\n",
    "        for idx, char in enumerate(self.rearrangeDisk()):\n",
    "            if char != \".\":\n",
    "                checksum += char * idx\n",
    "        \n",
    "        return checksum\n",
    "\n",
    "            \n",
    "\n",
    "\n",
    "\n",
    "\n",
    "\n",
    "            \n",
    "        \n",
    "\n",
    "\n",
    "        # # print(disk)\n",
    "        # files = deque(char for char in disk if char != '.')\n",
    "        # # print(files)\n",
    "        # num_files = len(files)\n",
    "        # while \".\" in disk[:num_files]:\n",
    "        # # while not \"\".join(disk[:num_files]).isnumeric():\n",
    "        #     # pop from the right side of the deque and slot it in the earliest space slot\n",
    "        #     space = disk.index('.')\n",
    "        #     disk[space] = files.pop()"
   ]
  },
  {
   "cell_type": "code",
   "execution_count": 59,
   "metadata": {},
   "outputs": [
    {
     "data": {
      "text/plain": [
       "2858"
      ]
     },
     "execution_count": 59,
     "metadata": {},
     "output_type": "execute_result"
    }
   ],
   "source": [
    "with open('data/test/9.txt', 'r', encoding='utf-8') as f:\n",
    "    input_str = f.read()\n",
    "\n",
    "disk = Disk2(input_str)\n",
    "disk.getChecksum()"
   ]
  },
  {
   "cell_type": "code",
   "execution_count": null,
   "metadata": {},
   "outputs": [],
   "source": [
    "with open('data/input/9.txt', 'r', encoding='utf-8') as f:\n",
    "    input_str = f.read()\n",
    "\n",
    "disk = Disk2(input_str)\n",
    "disk.getChecksum()"
   ]
  }
 ],
 "metadata": {
  "kernelspec": {
   "display_name": "aoc_24",
   "language": "python",
   "name": "python3"
  },
  "language_info": {
   "codemirror_mode": {
    "name": "ipython",
    "version": 3
   },
   "file_extension": ".py",
   "mimetype": "text/x-python",
   "name": "python",
   "nbconvert_exporter": "python",
   "pygments_lexer": "ipython3",
   "version": "3.10.9"
  }
 },
 "nbformat": 4,
 "nbformat_minor": 2
}
