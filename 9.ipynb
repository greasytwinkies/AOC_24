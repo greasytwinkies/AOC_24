{
 "cells": [
  {
   "cell_type": "code",
   "execution_count": 107,
   "metadata": {},
   "outputs": [],
   "source": [
    "# first, we need to parse the input string into block/space format\n",
    "# then, we need to fill in the empty spaces in disk\n",
    "# we will know when the disk has finished sorting when there is a contiguous block of numbers from the start of the disk that matches up with the total number of blocks in the disk\n",
    "\n",
    "# to parse the string, we just need to split the input string into separate groups of odd and even indexes\n",
    "from collections import deque\n",
    "class Disk:\n",
    "    def __init__(self, input_string: str):\n",
    "        self.input = input_string\n",
    "\n",
    "    def parseInput(self):\n",
    "        space = []\n",
    "        blocks = []\n",
    "        for idx, char in enumerate(self.input):\n",
    "            if idx % 2 == 0:\n",
    "                # block\n",
    "                blocks.append(int(char))\n",
    "            else:\n",
    "                # space\n",
    "                space.append(int(char))\n",
    "        if len(space) != len(blocks):\n",
    "            space.append(0)\n",
    "        else:\n",
    "            if space[-1] == 0:\n",
    "                blocks[-1] = int(str(blocks[-1]) + '0')\n",
    "        # combine the lists together\n",
    "        files = list(zip(blocks, space))\n",
    "        # print(files)\n",
    "        # print(files)\n",
    "        # convert into the block/space format\n",
    "        # disk = \"\"\n",
    "        disk = []\n",
    "        for idx, (block, space) in enumerate(files):\n",
    "            # disk += str(idx) * block + \".\" * space\n",
    "            for _ in range(block):\n",
    "                disk.append(idx)\n",
    "            for _ in range(space):\n",
    "                disk.append(\".\")\n",
    "        print(disk)\n",
    "        return disk\n",
    "    \n",
    "    def rearrangeDisk(self):\n",
    "        disk = self.parseInput()\n",
    "        # print(disk)\n",
    "        files = deque(char for char in disk if char != '.')\n",
    "        # print(files)\n",
    "        num_files = len(files)\n",
    "        while \".\" in disk[:num_files]:\n",
    "        # while not \"\".join(disk[:num_files]).isnumeric():\n",
    "            # pop from the right side of the deque and slot it in the earliest space slot\n",
    "            space = disk.index('.')\n",
    "            disk[space] = files.pop()\n",
    "\n",
    "\n",
    "        # we need to replace the popped files with empty spaces\n",
    "        disk = [\".\" if idx >= num_files else char for idx, char in enumerate(disk)]\n",
    "        return disk\n",
    "    \n",
    "    def getChecksum(self):\n",
    "        disk = [char for char in self.rearrangeDisk() if char != \".\"]\n",
    "        checksum = 0\n",
    "        for idx, file_ID in enumerate(disk):\n",
    "            checksum += idx * file_ID\n",
    "\n",
    "        return checksum"
   ]
  },
  {
   "cell_type": "code",
   "execution_count": 106,
   "metadata": {},
   "outputs": [
    {
     "data": {
      "text/plain": [
       "1928"
      ]
     },
     "execution_count": 106,
     "metadata": {},
     "output_type": "execute_result"
    }
   ],
   "source": [
    "with open('data/test/9.txt', 'r', encoding='utf-8') as f:\n",
    "    input_str = f.read()\n",
    "\n",
    "disk = Disk(input_str)\n",
    "disk.getChecksum()"
   ]
  },
  {
   "cell_type": "code",
   "execution_count": 105,
   "metadata": {},
   "outputs": [
    {
     "data": {
      "text/plain": [
       "6471961544878"
      ]
     },
     "execution_count": 105,
     "metadata": {},
     "output_type": "execute_result"
    }
   ],
   "source": [
    "with open('data/input/9.txt', 'r', encoding='utf-8') as f:\n",
    "    input_str = f.read()\n",
    "\n",
    "disk = Disk(input_str)\n",
    "disk.getChecksum()"
   ]
  }
 ],
 "metadata": {
  "kernelspec": {
   "display_name": "aoc_24",
   "language": "python",
   "name": "python3"
  },
  "language_info": {
   "codemirror_mode": {
    "name": "ipython",
    "version": 3
   },
   "file_extension": ".py",
   "mimetype": "text/x-python",
   "name": "python",
   "nbconvert_exporter": "python",
   "pygments_lexer": "ipython3",
   "version": "3.10.9"
  }
 },
 "nbformat": 4,
 "nbformat_minor": 2
}
