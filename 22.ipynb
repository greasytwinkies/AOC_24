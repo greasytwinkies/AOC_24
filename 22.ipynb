{
 "cells": [
  {
   "cell_type": "code",
   "execution_count": 3,
   "metadata": {},
   "outputs": [],
   "source": [
    "from functools import cache\n",
    "import sys\n",
    "sys.setrecursionlimit(10000)\n",
    "\n",
    "@cache\n",
    "def mix(sec_num: int, val: int):\n",
    "    return val ^ sec_num\n",
    "\n",
    "@cache\n",
    "def prune(sec_num: int):\n",
    "    return sec_num % 16777216\n",
    "\n",
    "@cache\n",
    "def proc1(sec_num: int):\n",
    "    result = sec_num * 64\n",
    "    mixed = mix(sec_num, result)\n",
    "    pruned = prune(mixed)\n",
    "    return pruned\n",
    "\n",
    "@cache\n",
    "def proc2(sec_num: int):\n",
    "    result = sec_num // 32\n",
    "    mixed = mix(sec_num, result)\n",
    "    pruned = prune(mixed)\n",
    "    return pruned\n",
    "\n",
    "@cache\n",
    "def proc3(sec_num: int):\n",
    "    result = sec_num * 2048\n",
    "    mixed = mix(sec_num, result)\n",
    "    pruned = prune(mixed)\n",
    "    return pruned\n",
    "\n",
    "@cache\n",
    "def generateSecretNums(sec_num: int, num_iter: int):\n",
    "    if num_iter == 1:\n",
    "        out = proc3(proc2(proc1(sec_num)))\n",
    "        # print(out)\n",
    "        return out\n",
    "\n",
    "    return generateSecretNums(generateSecretNums(sec_num, 1), num_iter-1)\n",
    "\n",
    "def Part1(nums: list, num_iter: int):\n",
    "    total = 0\n",
    "    for num in nums:\n",
    "        total += generateSecretNums(num, num_iter)\n",
    "\n",
    "    return total\n",
    "\n"
   ]
  },
  {
   "cell_type": "code",
   "execution_count": 23,
   "metadata": {},
   "outputs": [
    {
     "data": {
      "text/plain": [
       "5908254"
      ]
     },
     "execution_count": 23,
     "metadata": {},
     "output_type": "execute_result"
    }
   ],
   "source": [
    "test = 123\n",
    "\n",
    "generateSecretNums(test, 10)"
   ]
  },
  {
   "cell_type": "code",
   "execution_count": 24,
   "metadata": {},
   "outputs": [
    {
     "data": {
      "text/plain": [
       "37327623"
      ]
     },
     "execution_count": 24,
     "metadata": {},
     "output_type": "execute_result"
    }
   ],
   "source": [
    "with open('data/test/22.txt', 'r', encoding='utf-8') as f:\n",
    "    nums = list(map(int, f.read().splitlines()))\n",
    "\n",
    "Part1(nums, 2000)"
   ]
  },
  {
   "cell_type": "code",
   "execution_count": 25,
   "metadata": {},
   "outputs": [
    {
     "data": {
      "text/plain": [
       "18941802053"
      ]
     },
     "execution_count": 25,
     "metadata": {},
     "output_type": "execute_result"
    }
   ],
   "source": [
    "with open('data/input/22.txt', 'r', encoding='utf-8') as f:\n",
    "    nums = list(map(int, f.read().splitlines()))\n",
    "\n",
    "Part1(nums, 2000)"
   ]
  },
  {
   "cell_type": "code",
   "execution_count": 23,
   "metadata": {},
   "outputs": [],
   "source": [
    "# we need to track the price changes for each buyer\n",
    "# then find the sequence of 4 consecutive price changes that allows us to get the most bananas in total from all buyers\n",
    "@cache\n",
    "def generateSecretNums(sec_num: int, num_iter: int):\n",
    "    if num_iter == 1:\n",
    "        out = proc3(proc2(proc1(sec_num)))\n",
    "        price = out % 10\n",
    "        change = price - sec_num % 10\n",
    "        changelog.append((price, change))\n",
    "        return out\n",
    "\n",
    "    return generateSecretNums(generateSecretNums(sec_num, 1), num_iter-1)\n",
    "\n",
    "def getHashmap(changelog):\n",
    "    hashmap = {}\n",
    "    for i in range(len(changelog) - 3):\n",
    "        sequence = tuple(changelog[j][-1] for j in range(i, i + 4))\n",
    "        hashmap.setdefault(sequence, changelog[i + 3][0])\n",
    "    return hashmap\n"
   ]
  },
  {
   "cell_type": "code",
   "execution_count": 16,
   "metadata": {},
   "outputs": [
    {
     "name": "stdout",
     "output_type": "stream",
     "text": [
      "[(0, -3), (6, 6), (5, -1), (4, -1), (4, 0), (6, 2), (4, -2), (4, 0), (2, -2)]\n"
     ]
    },
    {
     "data": {
      "text/plain": [
       "{123: {(-3, 6, -1, -1): 4,\n",
       "  (6, -1, -1, 0): 4,\n",
       "  (-1, -1, 0, 2): 6,\n",
       "  (-1, 0, 2, -2): 4,\n",
       "  (0, 2, -2, 0): 4,\n",
       "  (2, -2, 0, -2): 2}}"
      ]
     },
     "execution_count": 16,
     "metadata": {},
     "output_type": "execute_result"
    }
   ],
   "source": [
    "test = 123\n",
    "\n",
    "changelog = []\n",
    "# convert changelog into quadgrams for only the change\n",
    "# we only need to care about the first occurence of the quadgram\n",
    "\n",
    "generateSecretNums(test, 9)\n",
    "print(changelog)\n",
    "hm_all = dict()\n",
    "hm_all[test] = getHashmap(changelog)\n",
    "hm_all\n"
   ]
  },
  {
   "cell_type": "code",
   "execution_count": 24,
   "metadata": {},
   "outputs": [
    {
     "name": "stdout",
     "output_type": "stream",
     "text": [
      "[((-2, 1, -1, 3), 23)]\n"
     ]
    }
   ],
   "source": [
    "with open('data/test/22_2.txt', 'r', encoding='utf-8') as f:\n",
    "    nums = list(map(int, f.read().splitlines()))\n",
    "\n",
    "hm_all = dict()\n",
    "for num in nums:\n",
    "    changelog = []\n",
    "    generateSecretNums(num, 1999)\n",
    "    hm_all[num] = getHashmap(changelog)\n",
    "\n",
    "collapsed_data = {}\n",
    "for sub_dict in hm_all.values():\n",
    "    for key, value in sub_dict.items():\n",
    "        if key not in collapsed_data:\n",
    "            collapsed_data[key] = 0\n",
    "        collapsed_data[key] += value\n",
    "\n",
    "# print(collapsed_data)\n",
    "print([(k, v) for k,v in collapsed_data.items() if v == max(collapsed_data.values())])"
   ]
  },
  {
   "cell_type": "code",
   "execution_count": 19,
   "metadata": {},
   "outputs": [
    {
     "name": "stdout",
     "output_type": "stream",
     "text": [
      "2247\n",
      "2247\n"
     ]
    }
   ],
   "source": [
    "with open('data/input/22.txt', 'r', encoding='utf-8') as f:\n",
    "    nums = list(map(int, f.read().splitlines()))\n",
    "\n",
    "print(len(nums))\n",
    "\n",
    "hm_all = dict()\n",
    "for num in nums:\n",
    "    changelog = []\n",
    "    generateSecretNums(num, 2000-1)\n",
    "    hm_all[num] = getHashmap(changelog)\n",
    "\n",
    "print(len(hm_all))\n"
   ]
  },
  {
   "cell_type": "code",
   "execution_count": 20,
   "metadata": {},
   "outputs": [
    {
     "name": "stdout",
     "output_type": "stream",
     "text": [
      "1931\n"
     ]
    }
   ],
   "source": [
    "collapsed_data = {}\n",
    "for sub_dict in hm_all.values():\n",
    "    for key, value in sub_dict.items():\n",
    "        if key not in collapsed_data:\n",
    "            collapsed_data[key] = 0\n",
    "        collapsed_data[key] += value\n",
    "\n",
    "# print(sorted((v for v in collapsed_data.values()), reverse=True))\n",
    "print(max(collapsed_data.values()))"
   ]
  }
 ],
 "metadata": {
  "kernelspec": {
   "display_name": "aoc_24",
   "language": "python",
   "name": "python3"
  },
  "language_info": {
   "codemirror_mode": {
    "name": "ipython",
    "version": 3
   },
   "file_extension": ".py",
   "mimetype": "text/x-python",
   "name": "python",
   "nbconvert_exporter": "python",
   "pygments_lexer": "ipython3",
   "version": "3.10.9"
  }
 },
 "nbformat": 4,
 "nbformat_minor": 2
}
