{
 "cells": [
  {
   "cell_type": "code",
   "execution_count": null,
   "metadata": {},
   "outputs": [],
   "source": [
    "# convert connections to dictionaries and duplicate them for the other direction since they are not directional\n",
    "from itertools import combinations\n",
    "class LAN:\n",
    "    def __init__(self, input_str: str):\n",
    "        netmap = input_str.split('\\n')\n",
    "        netmap = [tuple([c for c in n.split('-')]) for n in netmap]\n",
    "        # print(netmap)\n",
    "        conn = dict()\n",
    "        for (c1, c2) in netmap:\n",
    "            if c1 not in conn:\n",
    "                conn[c1] = {c2}\n",
    "                # add itself to the set\n",
    "                conn[c1].add(c1)\n",
    "            else:\n",
    "                conn[c1].add(c2)\n",
    "\n",
    "            if c2 not in conn:\n",
    "                conn[c2] = {c1}\n",
    "                conn[c2].add(c2)\n",
    "            else:\n",
    "                conn[c2].add(c1)\n",
    "\n",
    "        self.conn = conn\n",
    "\n",
    "        # print(conn)\n",
    "\n",
    "    # to find interconnected computers, we just need to look at the set intersections\n",
    "    def getComputerGroups(self, pc_count: int):\n",
    "        # get possible combinations of dictionary keys\n",
    "        merged = {}\n",
    "        keys = list(self.conn.keys())\n",
    "\n",
    "        # Generate combinations for the specific number of keys\n",
    "        for combo in combinations(keys, pc_count-1):\n",
    "            # Intersect the values of the keys in the current combination\n",
    "            merged_key = tuple(combo)  # Create a merged key as a tuple\n",
    "            merged_value = set.intersection(*(self.conn[key] for key in combo))\n",
    "            if merged_value:  # Only keep non-empty intersections\n",
    "                merged[merged_key] = merged_value\n",
    "\n",
    "        # print(*merged.items(), sep='\\n')\n",
    "        # print()\n",
    "        \n",
    "        # filter only those with 3 or more connections\n",
    "        # Filter and sort\n",
    "        filtered_sorted = {\n",
    "            tuple(sorted(k)): set(sorted(v))  # Sort both keys and values\n",
    "            for k, v in merged.items()\n",
    "            if len(v) >= pc_count  # Filter condition\n",
    "            and all(i in v for i in k)\n",
    "        }\n",
    "\n",
    "        # Sort the dictionary by keys\n",
    "        result = dict(sorted(filtered_sorted.items()))\n",
    "        # print(*result.items(), sep='\\n')\n",
    "        # print()\n",
    "\n",
    "        # remove key from values\n",
    "        for key, value in result.items():\n",
    "            value.difference_update(key)\n",
    "\n",
    "        # print(*result.items(), sep='\\n')\n",
    "\n",
    "        # Combine key and value into 3-item combinations treating them as the same if they have the same contents but different order\n",
    "        combined = set()\n",
    "        for key, value in result.items():\n",
    "            # Generate 3-item combinations by pairing each item of the value with the key\n",
    "            for item in value:\n",
    "                # Create a frozenset for the 3-item combination to ensure order doesn't matter\n",
    "                combined.add(frozenset([key[0], key[1], item]))\n",
    "\n",
    "        combined = [tuple(c) for c in combined]\n",
    "        # print(combined)\n",
    "        # print(len(combined))\n",
    "\n",
    "        return combined\n",
    "    \n",
    "    def filterGroupsByLetter(self, groups: list, letter: str):\n",
    "        groups = [group for group in groups if any(pc.startswith(letter) for pc in group)]\n",
    "\n",
    "        # print(groups)\n",
    "        # print(len(groups))\n",
    "        return groups\n",
    "    \n",
    "    def Part1(self, pc_count: int, letter: str):\n",
    "\n",
    "        return len(self.filterGroupsByLetter(self.getComputerGroups(pc_count), letter))"
   ]
  },
  {
   "cell_type": "code",
   "execution_count": 155,
   "metadata": {},
   "outputs": [
    {
     "data": {
      "text/plain": [
       "7"
      ]
     },
     "execution_count": 155,
     "metadata": {},
     "output_type": "execute_result"
    }
   ],
   "source": [
    "with open('data/test/23.txt') as f:\n",
    "    data = f.read()\n",
    "\n",
    "lan = LAN(data)\n",
    "# groups = lan.getComputerGroups(3)\n",
    "# lan.filterGroupsByLetter(groups, 't')\n",
    "lan.Part1(3, 't')\n"
   ]
  },
  {
   "cell_type": "code",
   "execution_count": 156,
   "metadata": {},
   "outputs": [
    {
     "data": {
      "text/plain": [
       "1306"
      ]
     },
     "execution_count": 156,
     "metadata": {},
     "output_type": "execute_result"
    }
   ],
   "source": [
    "with open('data/input/23.txt') as f:\n",
    "    data = f.read()\n",
    "\n",
    "lan = LAN(data)\n",
    "# groups = lan.getComputerGroups(3)\n",
    "# lan.filterGroupsByLetter(groups, 't')\n",
    "lan.Part1(3, 't')\n"
   ]
  }
 ],
 "metadata": {
  "kernelspec": {
   "display_name": "aoc_24",
   "language": "python",
   "name": "python3"
  },
  "language_info": {
   "codemirror_mode": {
    "name": "ipython",
    "version": 3
   },
   "file_extension": ".py",
   "mimetype": "text/x-python",
   "name": "python",
   "nbconvert_exporter": "python",
   "pygments_lexer": "ipython3",
   "version": "3.10.9"
  }
 },
 "nbformat": 4,
 "nbformat_minor": 2
}
