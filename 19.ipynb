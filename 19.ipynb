{
 "cells": [
  {
   "cell_type": "code",
   "execution_count": null,
   "metadata": {},
   "outputs": [],
   "source": [
    "# 1st try: let's just use regex lol \n",
    "# pipe all the patterns together into one pattern\n",
    "import re\n",
    "class Onsen:\n",
    "    def __init__(self, input_str: str):\n",
    "        [patterns, self.designs] = input_str.split('\\n\\n')\n",
    "        self.regex = re.compile(fr\"^({patterns.replace(', ', '|')})+$\", re.MULTILINE)\n",
    "    \n",
    "    def countValidDesigns(self):\n",
    "        matches = re.findall(self.regex, self.designs)\n",
    "        return len(matches)"
   ]
  },
  {
   "cell_type": "code",
   "execution_count": 21,
   "metadata": {},
   "outputs": [
    {
     "data": {
      "text/plain": [
       "6"
      ]
     },
     "execution_count": 21,
     "metadata": {},
     "output_type": "execute_result"
    }
   ],
   "source": [
    "with open('data/test/19.txt', 'r', encoding='utf-8') as f:\n",
    "    file = f.read()\n",
    "\n",
    "part1 = Onsen(file)\n",
    "part1.countValidDesigns()"
   ]
  },
  {
   "cell_type": "code",
   "execution_count": 22,
   "metadata": {},
   "outputs": [
    {
     "data": {
      "text/plain": [
       "285"
      ]
     },
     "execution_count": 22,
     "metadata": {},
     "output_type": "execute_result"
    }
   ],
   "source": [
    "with open('data/input/19.txt', 'r', encoding='utf-8') as f:\n",
    "    file = f.read()\n",
    "\n",
    "part1 = Onsen(file)\n",
    "part1.countValidDesigns()"
   ]
  },
  {
   "cell_type": "code",
   "execution_count": 1,
   "metadata": {},
   "outputs": [],
   "source": [
    "# part 2:\n",
    "# recursion\n",
    "# pass in a design and try all possible patterns that can fit into the start of the design\n",
    "# slice the design to right after the end of the matching pattern\n",
    "# hence, base case is when there is an empty string as that means everything fit perfectly\n",
    "from functools import cache\n",
    "\n",
    "@cache\n",
    "def countPermutations(design):\n",
    "    if design == '':\n",
    "        return 1\n",
    "    res = 0\n",
    "    for pattern in patterns:\n",
    "        if design.startswith(pattern):\n",
    "            res += countPermutations(design[len(pattern):])\n",
    "    return res"
   ]
  },
  {
   "cell_type": "code",
   "execution_count": 2,
   "metadata": {},
   "outputs": [
    {
     "name": "stdout",
     "output_type": "stream",
     "text": [
      "16\n"
     ]
    }
   ],
   "source": [
    "with open('data/test/19.txt', 'r', encoding='utf-8') as f:\n",
    "    file = f.read()\n",
    "\n",
    "[patterns, designs] = file.split('\\n\\n')\n",
    "patterns = patterns.split(', ')\n",
    "designs = designs.split('\\n')\n",
    "\n",
    "# print(patterns, designs)\n",
    "\n",
    "total = 0\n",
    "for design in designs:\n",
    "    total += countPermutations(design)\n",
    "\n",
    "print(total)"
   ]
  },
  {
   "cell_type": "code",
   "execution_count": 2,
   "metadata": {},
   "outputs": [
    {
     "name": "stdout",
     "output_type": "stream",
     "text": [
      "636483903099279\n"
     ]
    }
   ],
   "source": [
    "with open('data/input/19.txt', 'r', encoding='utf-8') as f:\n",
    "    file = f.read()\n",
    "\n",
    "[patterns, designs] = file.split('\\n\\n')\n",
    "patterns = patterns.split(', ')\n",
    "designs = designs.split('\\n')\n",
    "\n",
    "# print(patterns, designs)\n",
    "\n",
    "total = 0\n",
    "for design in designs:\n",
    "    total += countPermutations(design)\n",
    "\n",
    "print(total)"
   ]
  }
 ],
 "metadata": {
  "kernelspec": {
   "display_name": "aoc_24",
   "language": "python",
   "name": "python3"
  },
  "language_info": {
   "codemirror_mode": {
    "name": "ipython",
    "version": 3
   },
   "file_extension": ".py",
   "mimetype": "text/x-python",
   "name": "python",
   "nbconvert_exporter": "python",
   "pygments_lexer": "ipython3",
   "version": "3.10.9"
  }
 },
 "nbformat": 4,
 "nbformat_minor": 2
}
