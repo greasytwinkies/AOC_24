{
 "cells": [
  {
   "cell_type": "code",
   "execution_count": 1,
   "metadata": {},
   "outputs": [],
   "source": [
    "# we need to track and account for direction of movement\n",
    "# assumption is that guard always starts moving northward\n",
    "# so we can initialize the initial direction as North\n",
    "# also need to maintain a tracker for visited positions\n",
    "# we can use a set of tuples (coordinates) to track visited positions\n",
    "# guard finishes when they exceed a bound of the map\n",
    "from itertools import cycle\n",
    "class Map:\n",
    "    directions = cycle(list('NESW'))\n",
    "    def __init__(self, input_map: list, start_pos = tuple):\n",
    "        self.map = input_map\n",
    "        self.start_pos = start_pos\n",
    "        self.visited = set()\n",
    "\n",
    "    def countVisited(self):\n",
    "        return len(self.visited)\n",
    "\n",
    "    def getNextPosition(self, current_pos: tuple, current_direction: str):\n",
    "        (row, col) = current_pos\n",
    "        match current_direction:\n",
    "            case 'N':\n",
    "                # move up by 1\n",
    "                return (row-1, col)\n",
    "            case 'E':\n",
    "                # move right by 1\n",
    "                return (row, col+1)\n",
    "            case 'S':\n",
    "                # move down by 1\n",
    "                return (row+1, col)\n",
    "            case 'W':\n",
    "                # move left by 1\n",
    "                return (row, col-1)\n",
    "\n",
    "    def checkClear(self, position: tuple):\n",
    "        # check if position is obstacle\n",
    "        (row, col) = position\n",
    "        try:\n",
    "            if self.map[row][col] == '#':\n",
    "                return False # update direction in main code\n",
    "            return True\n",
    "        except IndexError:\n",
    "            return True\n",
    "\n",
    "    def patrol(self):\n",
    "        # initialize current position and direction\n",
    "        curr = self.start_pos\n",
    "        (row, col) = curr\n",
    "        direction = next(self.directions)\n",
    "        clear = False\n",
    "\n",
    "        # loop until guard goes out of bounds\n",
    "        while 0 <= col <= len(self.map[0])-1 and 0 <= row <= len(self.map)-1:\n",
    "            # get next location in order\n",
    "            self.visited.add(curr)\n",
    "            while not clear:\n",
    "                next_position = self.getNextPosition(curr, direction)\n",
    "                clear = self.checkClear(next_position)\n",
    "                if not clear:\n",
    "                    # turn 90 deg clockwise\n",
    "                    direction = next(self.directions)\n",
    "            # once clear position is finally found, move to new position and mark as visited\n",
    "            curr = next_position\n",
    "            (row, col) = curr\n",
    "            clear = False\n",
    "        \n",
    "        # return number of visited cells\n",
    "        print(self.countVisited())"
   ]
  },
  {
   "cell_type": "code",
   "execution_count": 3,
   "metadata": {},
   "outputs": [
    {
     "name": "stdout",
     "output_type": "stream",
     "text": [
      "41\n"
     ]
    }
   ],
   "source": [
    "with open('data/test/6.txt', 'r', encoding='utf-8') as f:\n",
    "    map_list = [[char for char in line] for line in f.read().splitlines()]\n",
    "    for row, line in enumerate(map_list):\n",
    "        for col, char in enumerate(line):\n",
    "            if char == '^':\n",
    "                start_idx = (row, col)\n",
    "    \n",
    "    map_list[row][col] = '.'\n",
    "    map1 = Map(map_list, start_idx)\n",
    "    map1.patrol()\n"
   ]
  },
  {
   "cell_type": "code",
   "execution_count": 2,
   "metadata": {},
   "outputs": [
    {
     "name": "stdout",
     "output_type": "stream",
     "text": [
      "4967\n"
     ]
    }
   ],
   "source": [
    "with open('data/input/6.txt', 'r', encoding='utf-8') as f:\n",
    "    map_list = [[char for char in line] for line in f.read().splitlines()]\n",
    "    for row, line in enumerate(map_list):\n",
    "        for col, char in enumerate(line):\n",
    "            if char == '^':\n",
    "                start_idx = (row, col)\n",
    "    \n",
    "    map_list[row][col] = '.'\n",
    "    map1 = Map(map_list, start_idx)\n",
    "    map1.patrol()"
   ]
  }
 ],
 "metadata": {
  "kernelspec": {
   "display_name": "aoc_24",
   "language": "python",
   "name": "python3"
  },
  "language_info": {
   "codemirror_mode": {
    "name": "ipython",
    "version": 3
   },
   "file_extension": ".py",
   "mimetype": "text/x-python",
   "name": "python",
   "nbconvert_exporter": "python",
   "pygments_lexer": "ipython3",
   "version": "3.10.9"
  }
 },
 "nbformat": 4,
 "nbformat_minor": 2
}
