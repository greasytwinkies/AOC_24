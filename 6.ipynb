{
 "cells": [
  {
   "cell_type": "code",
   "execution_count": 7,
   "metadata": {},
   "outputs": [],
   "source": [
    "# we need to track and account for direction of movement\n",
    "# assumption is that guard always starts moving northward\n",
    "# so we can initialize the initial direction as North\n",
    "# also need to maintain a tracker for visited positions\n",
    "# we can use a set of tuples (coordinates) to track visited positions\n",
    "# guard finishes when they exceed a bound of the map\n",
    "from itertools import cycle\n",
    "class Map:\n",
    "    def __init__(self, input_map: list, start_pos: tuple, directions):\n",
    "        self.map = input_map\n",
    "        self.start_pos = start_pos\n",
    "        self.visited = set()\n",
    "        self.directions = directions\n",
    "\n",
    "    def countVisited(self):\n",
    "        return len(self.visited)\n",
    "\n",
    "    def getNextPosition(self, current_pos: tuple, current_direction: str):\n",
    "        (row, col) = current_pos\n",
    "        match current_direction:\n",
    "            case 'N':\n",
    "                # move up by 1\n",
    "                return (row-1, col)\n",
    "            case 'E':\n",
    "                # move right by 1\n",
    "                return (row, col+1)\n",
    "            case 'S':\n",
    "                # move down by 1\n",
    "                return (row+1, col)\n",
    "            case 'W':\n",
    "                # move left by 1\n",
    "                return (row, col-1)\n",
    "\n",
    "    def checkClear(self, position: tuple):\n",
    "        # check if position is obstacle\n",
    "        (row, col) = position\n",
    "        try:\n",
    "            if self.map[row][col] == '#':\n",
    "                return False # update direction in main code\n",
    "            return True\n",
    "        except IndexError:\n",
    "            return True\n",
    "\n",
    "    def patrol(self):\n",
    "        # initialize current position and direction\n",
    "        curr = self.start_pos\n",
    "        (row, col) = curr\n",
    "        direction = next(self.directions)\n",
    "        clear = False\n",
    "\n",
    "        # loop until guard goes out of bounds\n",
    "        while 0 <= col <= len(self.map[0])-1 and 0 <= row <= len(self.map)-1:\n",
    "            # get next location in order\n",
    "            self.visited.add(curr)\n",
    "            while not clear:\n",
    "                next_position = self.getNextPosition(curr, direction)\n",
    "                clear = self.checkClear(next_position)\n",
    "                if not clear:\n",
    "                    # turn 90 deg clockwise\n",
    "                    direction = next(self.directions)\n",
    "            # once clear position is finally found, move to new position and mark as visited\n",
    "            curr = next_position\n",
    "            (row, col) = curr\n",
    "            clear = False\n",
    "        \n",
    "        # return number of visited cells\n",
    "        print(self.countVisited())"
   ]
  },
  {
   "cell_type": "code",
   "execution_count": 3,
   "metadata": {},
   "outputs": [
    {
     "name": "stdout",
     "output_type": "stream",
     "text": [
      "41\n"
     ]
    }
   ],
   "source": [
    "with open('data/test/6.txt', 'r', encoding='utf-8') as f:\n",
    "    map_list = [[char for char in line] for line in f.read().splitlines()]\n",
    "    for row, line in enumerate(map_list):\n",
    "        for col, char in enumerate(line):\n",
    "            if char == '^':\n",
    "                start_idx = (row, col)\n",
    "    \n",
    "    map_list[row][col] = '.'\n",
    "    map1 = Map(map_list, start_idx)\n",
    "    map1.patrol()\n"
   ]
  },
  {
   "cell_type": "code",
   "execution_count": 2,
   "metadata": {},
   "outputs": [
    {
     "name": "stdout",
     "output_type": "stream",
     "text": [
      "4967\n"
     ]
    }
   ],
   "source": [
    "with open('data/input/6.txt', 'r', encoding='utf-8') as f:\n",
    "    map_list = [[char for char in line] for line in f.read().splitlines()]\n",
    "    for row, line in enumerate(map_list):\n",
    "        for col, char in enumerate(line):\n",
    "            if char == '^':\n",
    "                start_idx = (row, col)\n",
    "    \n",
    "    map_list[row][col] = '.'\n",
    "    map1 = Map(map_list, start_idx)\n",
    "    map1.patrol()"
   ]
  },
  {
   "cell_type": "code",
   "execution_count": 23,
   "metadata": {},
   "outputs": [],
   "source": [
    "# part 2: idk LOL just try putting obstruction at every free position of the map and test\n",
    "# conditions for being in a loop: visit a cell that has already been visited with the same direction\n",
    "# make unique map object for each variant\n",
    "# now let's create a subclass of the original Map class that detects loops and also overwrites the patrol function\n",
    "class Map2(Map):\n",
    "    def checkLoop(self):\n",
    "        # initialize current position and direction\n",
    "        curr = self.start_pos\n",
    "        (row, col) = curr\n",
    "        direction = next(self.directions)\n",
    "        clear = False\n",
    "\n",
    "        # loop until guard goes out of bounds\n",
    "        while 0 <= col <= len(self.map[0])-1 and 0 <= row <= len(self.map)-1:\n",
    "            # get next location in order\n",
    "            if (curr, direction) in self.visited:\n",
    "                return True\n",
    "            self.visited.add((curr, direction))\n",
    "            while not clear:\n",
    "                next_position = self.getNextPosition(curr, direction)\n",
    "                clear = self.checkClear(next_position)\n",
    "                if not clear:\n",
    "                    # turn 90 deg clockwise\n",
    "                    direction = next(self.directions)\n",
    "            # once clear position is finally found, move to new position and mark as visited\n",
    "            curr = next_position\n",
    "            (row, col) = curr\n",
    "            clear = False\n",
    "        \n",
    "        return False"
   ]
  },
  {
   "cell_type": "code",
   "execution_count": 24,
   "metadata": {},
   "outputs": [
    {
     "name": "stdout",
     "output_type": "stream",
     "text": [
      "6\n"
     ]
    }
   ],
   "source": [
    "import copy\n",
    "variants = dict()\n",
    "with open('data/test/6.txt', 'r', encoding='utf-8') as f:\n",
    "    original_map = [[char for char in line] for line in f.read().splitlines()]\n",
    "\n",
    "# print(*original_map, sep='\\n')\n",
    "# get indices of all empty cells \n",
    "empty_coords = []\n",
    "for row, line in enumerate(original_map):\n",
    "    for col, char in enumerate(line):\n",
    "        if char == \".\":\n",
    "            empty_coords.append((row, col))\n",
    "        elif char == '^':\n",
    "            start_idx = (row, col)\n",
    "\n",
    "# print(empty_coords)\n",
    "# make a variant of the map for each entry in empty coord\n",
    "for (row, col) in empty_coords:\n",
    "    map_copy = copy.deepcopy(original_map)\n",
    "    # replace the relevant cell with #\n",
    "    map_copy[row][col] = \"#\"\n",
    "    variants[(row, col)] = map_copy\n",
    "\n",
    "# print(len(variants))\n",
    "\n",
    "\n",
    "# check that variants are not carbon copies of one another\n",
    "# print()\n",
    "# print(*variants[:5],sep='\\n')\n",
    "\n",
    "loop = 0\n",
    "for k,v in variants.items():\n",
    "    directions = cycle(list('NESW'))\n",
    "    map2 = Map2(v, start_idx, directions)\n",
    "    # print(k)\n",
    "    if map2.checkLoop():\n",
    "        loop += 1\n",
    "        # print(loop)\n",
    "print(loop)"
   ]
  },
  {
   "cell_type": "code",
   "execution_count": 25,
   "metadata": {},
   "outputs": [
    {
     "data": {
      "application/vnd.jupyter.widget-view+json": {
       "model_id": "a0252690a42a455eba2bb8f128d59a7d",
       "version_major": 2,
       "version_minor": 0
      },
      "text/plain": [
       "0it [00:00, ?it/s]"
      ]
     },
     "metadata": {},
     "output_type": "display_data"
    },
    {
     "data": {
      "application/vnd.jupyter.widget-view+json": {
       "model_id": "4b107b5ba5964a4c911ada93b9e3f20c",
       "version_major": 2,
       "version_minor": 0
      },
      "text/plain": [
       "Generating variants:   0%|          | 0/16088 [00:00<?, ?it/s]"
      ]
     },
     "metadata": {},
     "output_type": "display_data"
    }
   ],
   "source": [
    "import copy\n",
    "from tqdm.notebook import tqdm\n",
    "variants = dict()\n",
    "with open('data/input/6.txt', 'r', encoding='utf-8') as f:\n",
    "    original_map = [[char for char in line] for line in f.read().splitlines()]\n",
    "\n",
    "# print(*original_map, sep='\\n')\n",
    "# get indices of all empty cells \n",
    "empty_coords = []\n",
    "for row, line in tqdm(enumerate(original_map)):\n",
    "    for col, char in enumerate(line):\n",
    "        if char == \".\":\n",
    "            empty_coords.append((row, col))\n",
    "        elif char == '^':\n",
    "            start_idx = (row, col)\n",
    "\n",
    "# print(empty_coords)\n",
    "# make a variant of the map for each entry in empty coord\n",
    "for (row, col) in tqdm(empty_coords, desc='Generating variants'):\n",
    "    map_copy = copy.deepcopy(original_map)\n",
    "    # replace the relevant cell with #\n",
    "    map_copy[row][col] = \"#\"\n",
    "    variants[(row, col)] = map_copy\n",
    "\n",
    "# print(len(variants))\n"
   ]
  },
  {
   "cell_type": "code",
   "execution_count": 28,
   "metadata": {},
   "outputs": [
    {
     "data": {
      "application/vnd.jupyter.widget-view+json": {
       "model_id": "9540a45b078343cbaba8bbd4f3615cbe",
       "version_major": 2,
       "version_minor": 0
      },
      "text/plain": [
       "Checking:   0%|          | 0/16088 [00:00<?, ?it/s]"
      ]
     },
     "metadata": {},
     "output_type": "display_data"
    },
    {
     "name": "stdout",
     "output_type": "stream",
     "text": [
      "1789\n"
     ]
    }
   ],
   "source": [
    "# check that variants are not carbon copies of one another\n",
    "# print()\n",
    "# print(*variants[:5],sep='\\n')\n",
    "\n",
    "loop = 0\n",
    "for k,v in tqdm(variants.items(), desc='Checking'):\n",
    "    directions = cycle(list('NESW'))\n",
    "    map2 = Map2(v, start_idx, directions)\n",
    "    if map2.checkLoop():\n",
    "        loop += 1\n",
    "        # print(loop)\n",
    "print(loop)"
   ]
  }
 ],
 "metadata": {
  "kernelspec": {
   "display_name": "aoc_24",
   "language": "python",
   "name": "python3"
  },
  "language_info": {
   "codemirror_mode": {
    "name": "ipython",
    "version": 3
   },
   "file_extension": ".py",
   "mimetype": "text/x-python",
   "name": "python",
   "nbconvert_exporter": "python",
   "pygments_lexer": "ipython3",
   "version": "3.10.9"
  }
 },
 "nbformat": 4,
 "nbformat_minor": 2
}
