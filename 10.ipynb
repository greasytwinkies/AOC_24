{
 "cells": [
  {
   "cell_type": "code",
   "execution_count": 37,
   "metadata": {},
   "outputs": [],
   "source": [
    "# trailhead - unique point(s) on the map with 0 elevation\n",
    "# score - number of 9-height positions reachable by a specific trailhead, ie. each trailhead has a score\n",
    "# sum up total score of all trailheads in the map\n",
    "\n",
    "# we can just do dfs from each trailhead\n",
    "# once we reach apex, increment counter\n",
    "\n",
    "# create a function to scan neighboring nodes to see if they are valid\n",
    "# maintain a visited set\n",
    "# base case: when height of current position is 9\n",
    "from collections import deque\n",
    "class Map:\n",
    "    def __init__(self, input_str: str):\n",
    "        self.grid = [[int(pos) if pos.isnumeric() else pos for pos in row] for row in input_str.split('\\n')]\n",
    "        trailheads = [[(row_idx, col_idx) for col_idx, col in enumerate(row) if col == 0] for row_idx, row in enumerate(self.grid)]\n",
    "        self.trailheads = [coords for sublist in trailheads for coords in sublist]\n",
    "\n",
    "    def checkBounds(self, pos: tuple):\n",
    "        (row, col) = pos\n",
    "        row_lim = len(self.grid)-1\n",
    "        col_lim = len(self.grid[0])-1\n",
    "        return 0 <= row <= row_lim and 0 <= col <= col_lim\n",
    "    \n",
    "    def getNeighboringSteps(self, curr: tuple):\n",
    "        (row, col) = curr\n",
    "        return [(row+1, col), (row-1, col), (row, col-1), (row, col+1)]\n",
    "    \n",
    "    def checkStep(self, nb: tuple, curr_height: int, visited_apexes: set):\n",
    "        (row, col) = nb\n",
    "        if self.checkBounds(nb):\n",
    "            step = self.grid[row][col]\n",
    "            if step == curr_height+1 and nb not in visited_apexes:\n",
    "                return True\n",
    "        return False\n",
    "\n",
    "    def traverse(self, trailhead: tuple):\n",
    "        # maintain a counter for apexes reached by this trailhead\n",
    "        # add trailhead to stack\n",
    "        # while stack is not empty:\n",
    "        #   pop the topmost item from stack\n",
    "        #   if step is apex, increment counter\n",
    "        #   get the valid neighboring steps from the trailhead\n",
    "        #   push the neighboring steps onto the stack\n",
    "        score = 0\n",
    "        stack = deque()\n",
    "        stack.append(trailhead)\n",
    "        visited_apexes = set()\n",
    "        while stack:\n",
    "            curr = stack.pop()\n",
    "            # print(curr)\n",
    "            (row, col) = curr\n",
    "            curr_height = self.grid[row][col]\n",
    "            # print(curr_height)\n",
    "            if curr_height == 9:\n",
    "                score += 1\n",
    "                # add to visited apexes\n",
    "                visited_apexes.add(curr)\n",
    "            # append valid neighboring steps to stack\n",
    "            nbs = self.getNeighboringSteps(curr)\n",
    "            valid_nbs = [nb for nb in nbs if self.checkStep(nb, curr_height, visited_apexes)]\n",
    "            for nb in valid_nbs:\n",
    "                stack.append(nb)\n",
    "        return score\n",
    "    \n",
    "    def mapScore(self):\n",
    "        mscore = 0\n",
    "        for trailhead in self.trailheads:\n",
    "            # print(trailhead)\n",
    "            mscore += self.traverse(trailhead)\n",
    "\n",
    "        return mscore\n",
    "\n",
    "    \n"
   ]
  },
  {
   "cell_type": "code",
   "execution_count": 42,
   "metadata": {},
   "outputs": [
    {
     "data": {
      "text/plain": [
       "36"
      ]
     },
     "execution_count": 42,
     "metadata": {},
     "output_type": "execute_result"
    }
   ],
   "source": [
    "with open('data/test/10_1.txt', 'r', encoding='utf-8') as f:\n",
    "    data = f.read()\n",
    "\n",
    "# print(data)\n",
    "tpmap = Map(data)\n",
    "tpmap.mapScore()"
   ]
  },
  {
   "cell_type": "code",
   "execution_count": 41,
   "metadata": {},
   "outputs": [
    {
     "data": {
      "text/plain": [
       "698"
      ]
     },
     "execution_count": 41,
     "metadata": {},
     "output_type": "execute_result"
    }
   ],
   "source": [
    "with open('data/input/10.txt', 'r', encoding='utf-8') as f:\n",
    "    data = f.read()\n",
    "\n",
    "# print(data)\n",
    "tpmap = Map(data)\n",
    "tpmap.mapScore()"
   ]
  },
  {
   "cell_type": "code",
   "execution_count": 43,
   "metadata": {},
   "outputs": [],
   "source": [
    "# part 2: just remove the visited apexes set lol\n",
    "\n",
    "class Map2(Map):\n",
    "    def checkStep(self, nb: tuple, curr_height: int):\n",
    "        (row, col) = nb\n",
    "        if self.checkBounds(nb):\n",
    "            step = self.grid[row][col]\n",
    "            if step == curr_height+1:\n",
    "                return True\n",
    "        return False\n",
    "    \n",
    "    def traverse(self, trailhead: tuple):\n",
    "        # maintain a counter for apexes reached by this trailhead\n",
    "        # add trailhead to stack\n",
    "        # while stack is not empty:\n",
    "        #   pop the topmost item from stack\n",
    "        #   if step is apex, increment counter\n",
    "        #   get the valid neighboring steps from the trailhead\n",
    "        #   push the neighboring steps onto the stack\n",
    "        score = 0\n",
    "        stack = deque()\n",
    "        stack.append(trailhead)\n",
    "        # visited_apexes = set()\n",
    "        while stack:\n",
    "            curr = stack.pop()\n",
    "            # print(curr)\n",
    "            (row, col) = curr\n",
    "            curr_height = self.grid[row][col]\n",
    "            # print(curr_height)\n",
    "            if curr_height == 9:\n",
    "                score += 1\n",
    "                # add to visited apexes\n",
    "                # visited_apexes.add(curr)\n",
    "            # append valid neighboring steps to stack\n",
    "            nbs = self.getNeighboringSteps(curr)\n",
    "            valid_nbs = [nb for nb in nbs if self.checkStep(nb, curr_height)]\n",
    "            for nb in valid_nbs:\n",
    "                stack.append(nb)\n",
    "        return score"
   ]
  },
  {
   "cell_type": "code",
   "execution_count": 45,
   "metadata": {},
   "outputs": [
    {
     "data": {
      "text/plain": [
       "81"
      ]
     },
     "execution_count": 45,
     "metadata": {},
     "output_type": "execute_result"
    }
   ],
   "source": [
    "with open('data/test/10_1.txt', 'r', encoding='utf-8') as f:\n",
    "    data = f.read()\n",
    "\n",
    "# print(data)\n",
    "tpmap = Map2(data)\n",
    "tpmap.mapScore()"
   ]
  },
  {
   "cell_type": "code",
   "execution_count": null,
   "metadata": {},
   "outputs": [
    {
     "data": {
      "text/plain": [
       "1436"
      ]
     },
     "execution_count": 46,
     "metadata": {},
     "output_type": "execute_result"
    }
   ],
   "source": [
    "with open('data/input/10.txt', 'r', encoding='utf-8') as f:\n",
    "    data = f.read()\n",
    "\n",
    "# print(data)\n",
    "tpmap = Map2(data)\n",
    "tpmap.mapScore()"
   ]
  }
 ],
 "metadata": {
  "kernelspec": {
   "display_name": "aoc_24",
   "language": "python",
   "name": "python3"
  },
  "language_info": {
   "codemirror_mode": {
    "name": "ipython",
    "version": 3
   },
   "file_extension": ".py",
   "mimetype": "text/x-python",
   "name": "python",
   "nbconvert_exporter": "python",
   "pygments_lexer": "ipython3",
   "version": "3.10.9"
  }
 },
 "nbformat": 4,
 "nbformat_minor": 2
}
