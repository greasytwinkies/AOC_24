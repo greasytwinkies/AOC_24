{
 "cells": [
  {
   "cell_type": "code",
   "execution_count": null,
   "metadata": {},
   "outputs": [],
   "source": [
    "# use a stack to process the data\n",
    "# pop the top item in the stack and break it down\n",
    "# check if the resulting item(s) are already in the cache\n",
    "# if they are, skip processing that item and use the result instead\n",
    "# if not, process the item and update the cache\n",
    "from collections import deque\n",
    "from tqdm.notebook import tqdm\n",
    "\n",
    "def change(stone: int, change_memo: dict):\n",
    "    \"\"\"Optimized `change` function with caching.\"\"\"\n",
    "    if stone in change_memo:\n",
    "        return change_memo[stone]\n",
    "    \n",
    "    # Calculate results if not cached\n",
    "    if stone == 0:\n",
    "        result = [1]\n",
    "    elif len(str(stone)) % 2 == 0:\n",
    "        midpt = len(str(stone)) // 2\n",
    "        result = list(map(int, [str(stone)[:midpt], str(stone)[midpt:]]))\n",
    "    else:\n",
    "        result = [stone * 2024]\n",
    "    \n",
    "    # Cache the result\n",
    "    change_memo[stone] = result\n",
    "    return result\n",
    "\n",
    "def blink(stones: deque, n: int):\n",
    "    len_memo = {}\n",
    "    change_memo = {}\n",
    "    \n",
    "    for _ in tqdm(range(1, n + 1)):\n",
    "        next_stones = deque()  # Use a new deque for the next iteration\n",
    "        final_len = 0\n",
    "        \n",
    "        while stones:\n",
    "            stone = stones.pop()\n",
    "            \n",
    "            # Use cached length if available\n",
    "            if stone in len_memo:\n",
    "                final_len += len_memo[stone]\n",
    "                next_stones.extend(change_memo[stone])\n",
    "            else:\n",
    "                # Calculate change and cache results\n",
    "                result_stones = change(stone, change_memo)\n",
    "                change_memo[stone] = result_stones\n",
    "                len_memo[stone] = len(result_stones)\n",
    "                \n",
    "                final_len += len(result_stones)\n",
    "                next_stones.extend(result_stones)\n",
    "        \n",
    "        stones = next_stones  # Update the deque for the next iteration\n",
    "    \n",
    "    return final_len"
   ]
  },
  {
   "cell_type": "code",
   "execution_count": 95,
   "metadata": {},
   "outputs": [
    {
     "data": {
      "application/vnd.jupyter.widget-view+json": {
       "model_id": "e7f8320e56584f94b5434efc13434d91",
       "version_major": 2,
       "version_minor": 0
      },
      "text/plain": [
       "  0%|          | 0/1 [00:00<?, ?it/s]"
      ]
     },
     "metadata": {},
     "output_type": "display_data"
    },
    {
     "data": {
      "text/plain": [
       "7"
      ]
     },
     "execution_count": 95,
     "metadata": {},
     "output_type": "execute_result"
    }
   ],
   "source": [
    "with open('data/test/11.txt', 'r', encoding='utf-8') as f:\n",
    "    stones = f.read().split(' ')\n",
    "    stones = deque([int(stone) for stone in stones])\n",
    "\n",
    "blink(stones, 1)"
   ]
  },
  {
   "cell_type": "code",
   "execution_count": 96,
   "metadata": {},
   "outputs": [
    {
     "data": {
      "application/vnd.jupyter.widget-view+json": {
       "model_id": "e4463dfe971e4703b53ad3e48c35ae10",
       "version_major": 2,
       "version_minor": 0
      },
      "text/plain": [
       "  0%|          | 0/6 [00:00<?, ?it/s]"
      ]
     },
     "metadata": {},
     "output_type": "display_data"
    },
    {
     "data": {
      "text/plain": [
       "22"
      ]
     },
     "execution_count": 96,
     "metadata": {},
     "output_type": "execute_result"
    }
   ],
   "source": [
    "with open('data/test/11_1.txt', 'r', encoding='utf-8') as f:\n",
    "    stones = f.read().split(' ')\n",
    "    stones = deque([int(stone) for stone in stones])\n",
    "\n",
    "blink(stones, 6)"
   ]
  },
  {
   "cell_type": "code",
   "execution_count": 97,
   "metadata": {},
   "outputs": [
    {
     "data": {
      "application/vnd.jupyter.widget-view+json": {
       "model_id": "d20fa7c4ecdd47ea912ca70be4f20406",
       "version_major": 2,
       "version_minor": 0
      },
      "text/plain": [
       "  0%|          | 0/25 [00:00<?, ?it/s]"
      ]
     },
     "metadata": {},
     "output_type": "display_data"
    },
    {
     "data": {
      "text/plain": [
       "184927"
      ]
     },
     "execution_count": 97,
     "metadata": {},
     "output_type": "execute_result"
    }
   ],
   "source": [
    "with open('data/input/11.txt', 'r', encoding='utf-8') as f:\n",
    "    stones = f.read().split(' ')\n",
    "    stones = deque([int(stone) for stone in stones])\n",
    "\n",
    "blink(stones, 25)"
   ]
  },
  {
   "cell_type": "code",
   "execution_count": null,
   "metadata": {},
   "outputs": [
    {
     "data": {
      "application/vnd.jupyter.widget-view+json": {
       "model_id": "18102cdd56ed4d708154c4acbb00b7ba",
       "version_major": 2,
       "version_minor": 0
      },
      "text/plain": [
       "  0%|          | 0/75 [00:00<?, ?it/s]"
      ]
     },
     "metadata": {},
     "output_type": "display_data"
    }
   ],
   "source": [
    "with open('data/input/11.txt', 'r', encoding='utf-8') as f:\n",
    "    stones = f.read().split(' ')\n",
    "    stones = deque([int(stone) for stone in stones])\n",
    "\n",
    "blink(stones, 75)"
   ]
  }
 ],
 "metadata": {
  "kernelspec": {
   "display_name": "aoc_24",
   "language": "python",
   "name": "python3"
  },
  "language_info": {
   "codemirror_mode": {
    "name": "ipython",
    "version": 3
   },
   "file_extension": ".py",
   "mimetype": "text/x-python",
   "name": "python",
   "nbconvert_exporter": "python",
   "pygments_lexer": "ipython3",
   "version": "3.10.9"
  }
 },
 "nbformat": 4,
 "nbformat_minor": 2
}
