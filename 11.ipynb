{
 "cells": [
  {
   "cell_type": "code",
   "execution_count": null,
   "metadata": {},
   "outputs": [],
   "source": [
    "# use recursion\n",
    "# base case: 1 blink -- essentially just the change function\n",
    "# \n",
    "\n",
    "def blink(stones: list, blinks: int):\n",
    "    final_stones = []\n",
    "    if blinks == 1:\n",
    "        for stone in stones:\n",
    "            if stone == 0:\n",
    "                result = [1]\n",
    "            elif len(str(stone)) % 2 == 0:\n",
    "                midpt = len(str(stone)) // 2\n",
    "                result = list(map(int, [str(stone)[:midpt], str(stone)[midpt:]]))\n",
    "            else:\n",
    "                result = [stone * 2024]\n",
    "            final_stones += result\n",
    "        return final_stones\n",
    "    elif blinks > 1:\n",
    "        # reduce to 1 blink\n",
    "        # 3 blinks == (2 blinks) blinking == etc.\n",
    "        return blink(blink(stones, blinks-1), 1)"
   ]
  },
  {
   "cell_type": "code",
   "execution_count": 32,
   "metadata": {},
   "outputs": [
    {
     "data": {
      "text/plain": [
       "22"
      ]
     },
     "execution_count": 32,
     "metadata": {},
     "output_type": "execute_result"
    }
   ],
   "source": [
    "with open('data/test/11_1.txt', 'r', encoding='utf-8') as f:\n",
    "    # convert input to list\n",
    "    stones = [int(stone) for stone in f.read().split()]\n",
    "\n",
    "# print(stones)\n",
    "\n",
    "len(blink(stones, 6))"
   ]
  },
  {
   "cell_type": "code",
   "execution_count": 26,
   "metadata": {},
   "outputs": [
    {
     "data": {
      "text/plain": [
       "184927"
      ]
     },
     "execution_count": 26,
     "metadata": {},
     "output_type": "execute_result"
    }
   ],
   "source": [
    "with open('data/input/11.txt', 'r', encoding='utf-8') as f:\n",
    "    # convert input to list\n",
    "    stones = [int(stone) for stone in f.read().split()]\n",
    "\n",
    "# print(stones)\n",
    "\n",
    "len(blink(stones, 25))"
   ]
  },
  {
   "cell_type": "code",
   "execution_count": 35,
   "metadata": {},
   "outputs": [],
   "source": [
    "from functools import lru_cache\n",
    "\n",
    "def blink2(stones: list, blinks: int):\n",
    "    # Helper function to enable caching\n",
    "    @lru_cache(maxsize=None)\n",
    "    def cached_blink(stones_tuple, blinks):\n",
    "        stones = list(stones_tuple)  # Convert tuple back to list\n",
    "        final_stones = []\n",
    "        if blinks == 1:\n",
    "            for stone in stones:\n",
    "                if stone == 0:\n",
    "                    result = [1]\n",
    "                elif len(str(stone)) % 2 == 0:\n",
    "                    midpt = len(str(stone)) // 2\n",
    "                    result = list(map(int, [str(stone)[:midpt], str(stone)[midpt:]]))\n",
    "                else:\n",
    "                    result = [stone * 2024]\n",
    "                final_stones += result\n",
    "            return tuple(final_stones)  # Return a tuple for consistent caching\n",
    "        elif blinks > 1:\n",
    "            # Reduce to 1 blink\n",
    "            return cached_blink(cached_blink(tuple(stones), blinks - 1), 1)\n",
    "\n",
    "    # Call the cached function\n",
    "    return list(cached_blink(tuple(stones), blinks))\n"
   ]
  },
  {
   "cell_type": "code",
   "execution_count": null,
   "metadata": {},
   "outputs": [],
   "source": [
    "with open('data/input/11.txt', 'r', encoding='utf-8') as f:\n",
    "    # convert input to list\n",
    "    stones = [int(stone) for stone in f.read().split()]\n",
    "\n",
    "# print(stones)\n",
    "\n",
    "len(blink2(stones, 75))"
   ]
  }
 ],
 "metadata": {
  "kernelspec": {
   "display_name": "aoc_24",
   "language": "python",
   "name": "python3"
  },
  "language_info": {
   "codemirror_mode": {
    "name": "ipython",
    "version": 3
   },
   "file_extension": ".py",
   "mimetype": "text/x-python",
   "name": "python",
   "nbconvert_exporter": "python",
   "pygments_lexer": "ipython3",
   "version": "3.10.9"
  }
 },
 "nbformat": 4,
 "nbformat_minor": 2
}
