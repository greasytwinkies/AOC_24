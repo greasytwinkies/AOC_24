{
 "cells": [
  {
   "cell_type": "code",
   "execution_count": null,
   "metadata": {},
   "outputs": [],
   "source": [
    "# use recursion\n",
    "# base case: 1 blink -- essentially just the change function\n",
    "# \n",
    "\n",
    "def blink(stones: list, blinks: int):\n",
    "    final_stones = []\n",
    "    if blinks == 1:\n",
    "        for stone in stones:\n",
    "            if stone == 0:\n",
    "                result = [1]\n",
    "            elif len(str(stone)) % 2 == 0:\n",
    "                midpt = len(str(stone)) // 2\n",
    "                result = list(map(int, [str(stone)[:midpt], str(stone)[midpt:]]))\n",
    "            else:\n",
    "                result = [stone * 2024]\n",
    "            final_stones += result\n",
    "        return final_stones\n",
    "    elif blinks > 1:\n",
    "        # reduce to 1 blink\n",
    "        # 3 blinks == (2 blinks) blinking == etc.\n",
    "        return blink(blink(stones, blinks-1), 1)"
   ]
  },
  {
   "cell_type": "code",
   "execution_count": 32,
   "metadata": {},
   "outputs": [
    {
     "data": {
      "text/plain": [
       "22"
      ]
     },
     "execution_count": 32,
     "metadata": {},
     "output_type": "execute_result"
    }
   ],
   "source": [
    "with open('data/test/11_1.txt', 'r', encoding='utf-8') as f:\n",
    "    # convert input to list\n",
    "    stones = [int(stone) for stone in f.read().split()]\n",
    "\n",
    "# print(stones)\n",
    "\n",
    "len(blink(stones, 6))"
   ]
  },
  {
   "cell_type": "code",
   "execution_count": 26,
   "metadata": {},
   "outputs": [
    {
     "data": {
      "text/plain": [
       "184927"
      ]
     },
     "execution_count": 26,
     "metadata": {},
     "output_type": "execute_result"
    }
   ],
   "source": [
    "with open('data/input/11.txt', 'r', encoding='utf-8') as f:\n",
    "    # convert input to list\n",
    "    stones = [int(stone) for stone in f.read().split()]\n",
    "\n",
    "# print(stones)\n",
    "\n",
    "len(blink(stones, 25))"
   ]
  },
  {
   "cell_type": "code",
   "execution_count": 1,
   "metadata": {},
   "outputs": [],
   "source": [
    "# recursive function that takes in an int (the number on the stone) and the number of remaining blinks\n",
    "# base case: when number of remaining blinks is 0.\n",
    "from functools import cache\n",
    "\n",
    "@cache\n",
    "def blink(stone: int, rem_blinks: int):\n",
    "    if rem_blinks == 0:\n",
    "        return 1\n",
    "\n",
    "    \n",
    "    count = 0\n",
    "    if stone == 0:\n",
    "        count += blink(1, rem_blinks-1)\n",
    "    elif len(str(stone)) % 2 == 0:\n",
    "        midpt = len(str(stone)) // 2\n",
    "        count += blink(int(str(stone)[:midpt]), rem_blinks-1) + blink(int(str(stone)[midpt:]), rem_blinks-1)\n",
    "    else:\n",
    "        count += blink(stone*2024, rem_blinks-1)\n",
    "\n",
    "    return count"
   ]
  },
  {
   "cell_type": "code",
   "execution_count": 3,
   "metadata": {},
   "outputs": [
    {
     "name": "stdout",
     "output_type": "stream",
     "text": [
      "55312\n"
     ]
    }
   ],
   "source": [
    "with open('data/test/11_1.txt', 'r', encoding='utf-8') as f:\n",
    "    # convert input to list\n",
    "    stones = [int(stone) for stone in f.read().split()]\n",
    "\n",
    "total = 0\n",
    "for stone in stones:\n",
    "    total += blink(stone, 25)\n",
    "\n",
    "print(total)"
   ]
  },
  {
   "cell_type": "code",
   "execution_count": 2,
   "metadata": {},
   "outputs": [
    {
     "name": "stdout",
     "output_type": "stream",
     "text": [
      "220357186726677\n"
     ]
    }
   ],
   "source": [
    "with open('data/input/11.txt', 'r', encoding='utf-8') as f:\n",
    "    # convert input to list\n",
    "    stones = [int(stone) for stone in f.read().split()]\n",
    "\n",
    "total = 0\n",
    "for stone in stones:\n",
    "    total += blink(stone, 75)\n",
    "\n",
    "print(total)"
   ]
  }
 ],
 "metadata": {
  "kernelspec": {
   "display_name": "aoc_24",
   "language": "python",
   "name": "python3"
  },
  "language_info": {
   "codemirror_mode": {
    "name": "ipython",
    "version": 3
   },
   "file_extension": ".py",
   "mimetype": "text/x-python",
   "name": "python",
   "nbconvert_exporter": "python",
   "pygments_lexer": "ipython3",
   "version": "3.10.9"
  }
 },
 "nbformat": 4,
 "nbformat_minor": 2
}
