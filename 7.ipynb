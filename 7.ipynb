{
 "cells": [
  {
   "cell_type": "code",
   "execution_count": 1,
   "metadata": {},
   "outputs": [],
   "source": [
    "# operators are always evaluated left to right (no order of operations here)\n",
    "# this is just a binary tree where the two child nodes are either multiply or add the next number\n",
    "# after establishing the binary tree, we can just do dfs until we find one valid path\n",
    "# we can terminate paths once they exceed the final value of the operation\n",
    "\n",
    "def DFS(test_value: int, numbers: list, total_sum: int):\n",
    "    # base case: when the numbers has no items left\n",
    "    if not numbers:\n",
    "        # check if total_sum is equal to the test value\n",
    "        if total_sum == test_value:\n",
    "            return True\n",
    "        else:\n",
    "            return False\n",
    "    else:\n",
    "        # we can terminate operations early if we already exceed test value\n",
    "        if total_sum >= test_value:\n",
    "            return False\n",
    "        else:\n",
    "            # continue DFS\n",
    "            first_num = numbers[0]\n",
    "            return DFS(test_value, numbers[1:], first_num + total_sum) or DFS(test_value, numbers[1:], first_num * total_sum)\n"
   ]
  },
  {
   "cell_type": "code",
   "execution_count": 4,
   "metadata": {},
   "outputs": [
    {
     "name": "stdout",
     "output_type": "stream",
     "text": [
      "3749\n"
     ]
    }
   ],
   "source": [
    "# test on test value\n",
    "with open('data/test/7.txt', 'r', encoding='utf-8') as f:\n",
    "    lines = f.read().splitlines()\n",
    "total_calibration_result = 0\n",
    "# parse data\n",
    "for line in lines:\n",
    "    [test_value, numbers] = line.split(':')\n",
    "    test_value = int(test_value)\n",
    "    numbers = [int(num) for num in numbers.strip().split()]\n",
    "    # print(test_value, numbers)\n",
    "    if DFS(test_value, numbers, 0):\n",
    "        total_calibration_result += test_value\n",
    "    \n",
    "print(total_calibration_result)"
   ]
  },
  {
   "cell_type": "code",
   "execution_count": null,
   "metadata": {},
   "outputs": [
    {
     "name": "stdout",
     "output_type": "stream",
     "text": [
      "21572148763543\n"
     ]
    }
   ],
   "source": [
    "with open('data/input/7.txt', 'r', encoding='utf-8') as f:\n",
    "    lines = f.read().splitlines()\n",
    "total_calibration_result = 0\n",
    "# parse data\n",
    "for line in lines:\n",
    "    [test_value, numbers] = line.split(':')\n",
    "    test_value = int(test_value)\n",
    "    numbers = [int(num) for num in numbers.strip().split()]\n",
    "    # print(test_value, numbers)\n",
    "    if DFS(test_value, numbers, 0):\n",
    "        total_calibration_result += test_value\n",
    "    \n",
    "print(total_calibration_result)"
   ]
  },
  {
   "cell_type": "code",
   "execution_count": 60,
   "metadata": {},
   "outputs": [],
   "source": [
    "# part 2: extra concatenation operator\n",
    "# we just need to modify the DFS code to include this operation\n",
    "import math\n",
    "concat = lambda x, y: x * (10**(1+int(math.log10(y)))) + y\n",
    "def DFS2(test_value: int, numbers: list, total_sum: int):\n",
    "    # base case: when the numbers has no items left\n",
    "    if not numbers:\n",
    "        # check if total_sum is equal to the test value\n",
    "        if total_sum == test_value:\n",
    "            return True\n",
    "        else:\n",
    "            return False\n",
    "    else:\n",
    "        # we can terminate operations early if we already exceed test value\n",
    "        if total_sum > test_value:\n",
    "            return False\n",
    "        else:\n",
    "            # continue DFS\n",
    "            first_num = numbers[0]\n",
    "            return DFS2(test_value, numbers[1:], first_num + total_sum) or DFS2(test_value, numbers[1:], first_num * total_sum) or DFS2(test_value, numbers[1:], concat(total_sum, first_num))"
   ]
  },
  {
   "cell_type": "code",
   "execution_count": 61,
   "metadata": {},
   "outputs": [
    {
     "name": "stdout",
     "output_type": "stream",
     "text": [
      "11387\n"
     ]
    }
   ],
   "source": [
    "# test on test value\n",
    "with open('data/test/7.txt', 'r', encoding='utf-8') as f:\n",
    "    lines = f.read().splitlines()\n",
    "total_calibration_result = 0\n",
    "# parse data\n",
    "for line in lines:\n",
    "    [test_value, numbers] = line.split(':')\n",
    "    test_value = int(test_value)\n",
    "    numbers = [int(num) for num in numbers.strip().split()]\n",
    "    # print(test_value, numbers)\n",
    "    if DFS2(test_value, numbers, 0):\n",
    "        total_calibration_result += test_value\n",
    "    \n",
    "print(total_calibration_result)"
   ]
  },
  {
   "cell_type": "code",
   "execution_count": 62,
   "metadata": {},
   "outputs": [
    {
     "data": {
      "application/vnd.jupyter.widget-view+json": {
       "model_id": "d73af273c39542f1a8ae00a8c0f17631",
       "version_major": 2,
       "version_minor": 0
      },
      "text/plain": [
       "  0%|          | 0/850 [00:00<?, ?it/s]"
      ]
     },
     "metadata": {},
     "output_type": "display_data"
    },
    {
     "name": "stdout",
     "output_type": "stream",
     "text": [
      "581941094529163\n"
     ]
    }
   ],
   "source": [
    "# test on test value\n",
    "from tqdm.notebook import tqdm\n",
    "with open('data/input/7.txt', 'r', encoding='utf-8') as f:\n",
    "    lines = f.read().splitlines()\n",
    "total_calibration_result = 0\n",
    "false = []\n",
    "# parse data\n",
    "for line in tqdm(lines):\n",
    "    [test_value, numbers] = line.split(':')\n",
    "    test_value = int(test_value)\n",
    "    numbers = [int(num) for num in numbers.strip().split()]\n",
    "    # print(test_value, numbers)\n",
    "    if DFS2(test_value, numbers, 0):\n",
    "        total_calibration_result += test_value\n",
    "    \n",
    "print(total_calibration_result)"
   ]
  }
 ],
 "metadata": {
  "kernelspec": {
   "display_name": "aoc_24",
   "language": "python",
   "name": "python3"
  },
  "language_info": {
   "codemirror_mode": {
    "name": "ipython",
    "version": 3
   },
   "file_extension": ".py",
   "mimetype": "text/x-python",
   "name": "python",
   "nbconvert_exporter": "python",
   "pygments_lexer": "ipython3",
   "version": "3.10.9"
  }
 },
 "nbformat": 4,
 "nbformat_minor": 2
}
