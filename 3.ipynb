{
 "cells": [
  {
   "cell_type": "code",
   "execution_count": null,
   "metadata": {},
   "outputs": [],
   "source": [
    "import re\n",
    "# define a Memory class\n",
    "class Memory:\n",
    "    mul_pattern = re.compile(r'mul\\((\\d{1,3}),(\\d{1,3})\\)')\n",
    "    def __init__(self, memory: str):\n",
    "        self.memory = memory\n",
    "\n",
    "    def getMulPairs(self):\n",
    "        matches = [tuple(map(int, pair)) for pair in re.findall(self.mul_pattern, self.memory)]\n",
    "        # print(matches)\n",
    "        return matches\n",
    "        # # return a tuple of multiplication pairs\n",
    "        # pairs = [list(map(int,(match.group(1), match.group(2)))) for match in matches]\n",
    "        # return pairs\n",
    "\n",
    "    def calcResults(self):\n",
    "        pairs = self.getMulPairs()\n",
    "        total = sum([pair[0] * pair[1] for pair in pairs])\n",
    "        return total"
   ]
  },
  {
   "cell_type": "code",
   "execution_count": 30,
   "metadata": {},
   "outputs": [
    {
     "data": {
      "text/plain": [
       "161"
      ]
     },
     "execution_count": 30,
     "metadata": {},
     "output_type": "execute_result"
    }
   ],
   "source": [
    "# test on test data\n",
    "with open('data/test/3.txt', 'r', encoding='utf-8') as f:\n",
    "    memory = f.read()\n",
    "\n",
    "mem = Memory(memory)\n",
    "mem.calcResults()"
   ]
  },
  {
   "cell_type": "code",
   "execution_count": 31,
   "metadata": {},
   "outputs": [
    {
     "data": {
      "text/plain": [
       "188741603"
      ]
     },
     "execution_count": 31,
     "metadata": {},
     "output_type": "execute_result"
    }
   ],
   "source": [
    "# try on actual data\n",
    "with open('data/input/3.txt', 'r', encoding='utf-8') as f:\n",
    "    memory = f.read()\n",
    "\n",
    "mem = Memory(memory)\n",
    "mem.calcResults()"
   ]
  },
  {
   "cell_type": "code",
   "execution_count": 63,
   "metadata": {},
   "outputs": [
    {
     "data": {
      "text/plain": [
       "48"
      ]
     },
     "execution_count": 63,
     "metadata": {},
     "output_type": "execute_result"
    }
   ],
   "source": [
    "# part 2: enabling and disabling\n",
    "# we need to maintain a tracker for enabling/disabling\n",
    "# we can do findall on a new pattern, and then iterate over each match for calculation and update the tracker accordingly\n",
    "\n",
    "class Memory_Part2(Memory):\n",
    "    # modify the pattern to include do's and don'ts\n",
    "    mul_pattern = re.compile(r\"mul\\((\\d{1,3}),(\\d{1,3})\\)|don't\\(\\)|do\\(\\)\")\n",
    "    def getMulPairs(self):\n",
    "        matches = [match for match in re.finditer(self.mul_pattern, self.memory)]\n",
    "        # print(matches)\n",
    "        valid_matches = []\n",
    "        enabled = True\n",
    "        for match in matches:            \n",
    "            # check if match is switch or not\n",
    "            if match.group().startswith('do'):\n",
    "                if match.group().endswith(\"n't()\"):\n",
    "                    enabled = False\n",
    "                else:\n",
    "                    enabled = True\n",
    "                continue\n",
    "            else:\n",
    "                first, second = int(match.group(1)), int(match.group(2))\n",
    "                if enabled:\n",
    "                    valid_matches.append((first, second))\n",
    "                # print(match.group(1), match.group(2))\n",
    "                # valid_matches.append(tuple(map(int(match.group(1), match.group(2)))))\n",
    "        # print(valid_matches)\n",
    "        return valid_matches\n",
    "\n",
    "\n",
    "with open('data/test/3_2.txt', 'r', encoding='utf-8') as f:\n",
    "    memory = f.read()\n",
    "\n",
    "mem = Memory_Part2(memory)\n",
    "mem.calcResults()"
   ]
  },
  {
   "cell_type": "code",
   "execution_count": 64,
   "metadata": {},
   "outputs": [
    {
     "data": {
      "text/plain": [
       "67269798"
      ]
     },
     "execution_count": 64,
     "metadata": {},
     "output_type": "execute_result"
    }
   ],
   "source": [
    "# finally try on input data\n",
    "with open('data/input/3.txt', 'r', encoding='utf-8') as f:\n",
    "    memory = f.read()\n",
    "\n",
    "mem = Memory_Part2(memory)\n",
    "mem.calcResults()"
   ]
  }
 ],
 "metadata": {
  "kernelspec": {
   "display_name": "aoc_24",
   "language": "python",
   "name": "python3"
  },
  "language_info": {
   "codemirror_mode": {
    "name": "ipython",
    "version": 3
   },
   "file_extension": ".py",
   "mimetype": "text/x-python",
   "name": "python",
   "nbconvert_exporter": "python",
   "pygments_lexer": "ipython3",
   "version": "3.10.9"
  }
 },
 "nbformat": 4,
 "nbformat_minor": 2
}
