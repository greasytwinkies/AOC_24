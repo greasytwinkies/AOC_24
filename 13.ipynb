{
 "cells": [
  {
   "cell_type": "code",
   "execution_count": 70,
   "metadata": {},
   "outputs": [],
   "source": [
    "# we need the path with the lowest weight for each claw machine\n",
    "# then tally up all the tokens required to win all the prizes in the arcade\n",
    "# it costs 3 tokens to push A and 1 token to push B\n",
    "# each button cannot be pressed more than 100 times\n",
    "\n",
    "# we can just try every solution between 0-100 for x and y\n",
    "import re\n",
    "pattern = re.compile(r'Button A: X\\+(\\d+), Y\\+(\\d+)\\nButton B: X\\+(\\d+), Y\\+(\\d+)\\nPrize: X=(\\d+), Y=(\\d+)')\n",
    "class ClawMachine:\n",
    "    A_COST = 3\n",
    "    B_COST = 1\n",
    "    def __init__(self, input_str: str):\n",
    "        match = re.search(pattern, input_str)\n",
    "        # print(match.group())\n",
    "        self.a = tuple(map(int, (match.group(1), match.group(2))))\n",
    "        self.b = tuple(map(int, (match.group(3), match.group(4))))\n",
    "        self.prize = tuple(map(int, (match.group(5), match.group(6))))\n",
    "        # print(self.a, self.b, self.prize)\n",
    "\n",
    "    def getPossibleMoves(self):\n",
    "        # equation: n * (a[0] - a[1]) + m * (b[0] - b[1]) - (prize[0] - prize[1]) = 0\n",
    "        # m = ((prize[0] - prize[1]) - n * (a[0] - a[1])) / (b[0] - b[1])\n",
    "        def solve(a, n, b, c):\n",
    "            return (c - a * n) / b\n",
    "        solutions = []\n",
    "        for n in range(0, 101):\n",
    "            m1 = solve(self.a[0], n, self.b[0], self.prize[0])\n",
    "            m2 = solve(self.a[1], n, self.b[1], self.prize[1])\n",
    "            if m1 == m2 and 0 <= m1 <= 100:\n",
    "                solutions.append((int(n), int(m1)))\n",
    "        # print(solutions)\n",
    "        return solutions\n",
    "\n",
    "    def getMinTokens(self):\n",
    "        solutions = self.getPossibleMoves()\n",
    "        if solutions:\n",
    "            min_tokens = min([sol[0] * self.A_COST + sol[1] * self.B_COST for sol in solutions])\n",
    "            # print(min_tokens)\n",
    "            return min_tokens\n",
    "        else:\n",
    "            return 0"
   ]
  },
  {
   "cell_type": "code",
   "execution_count": 71,
   "metadata": {},
   "outputs": [
    {
     "data": {
      "text/plain": [
       "480"
      ]
     },
     "execution_count": 71,
     "metadata": {},
     "output_type": "execute_result"
    }
   ],
   "source": [
    "with open('data/test/13.txt', 'r', encoding='utf-8') as f:\n",
    "    arcade = f.read()\n",
    "\n",
    "claw_machines = arcade.split('\\n\\n')\n",
    "total_tokens = 0\n",
    "for machine in claw_machines:\n",
    "    machine = ClawMachine(machine)\n",
    "    total_tokens += machine.getMinTokens()\n",
    "\n",
    "total_tokens"
   ]
  },
  {
   "cell_type": "code",
   "execution_count": 72,
   "metadata": {},
   "outputs": [
    {
     "data": {
      "text/plain": [
       "40369"
      ]
     },
     "execution_count": 72,
     "metadata": {},
     "output_type": "execute_result"
    }
   ],
   "source": [
    "with open('data/input/13.txt', 'r', encoding='utf-8') as f:\n",
    "    arcade = f.read()\n",
    "\n",
    "claw_machines = arcade.split('\\n\\n')\n",
    "total_tokens = 0\n",
    "for machine in claw_machines:\n",
    "    machine = ClawMachine(machine)\n",
    "    total_tokens += machine.getMinTokens()\n",
    "\n",
    "total_tokens"
   ]
  },
  {
   "cell_type": "code",
   "execution_count": 135,
   "metadata": {},
   "outputs": [],
   "source": [
    "from sympy import *\n",
    "class ClawMachine2(ClawMachine):\n",
    "    def __init__(self, input_str: str):\n",
    "        super(ClawMachine2, self).__init__(input_str)\n",
    "        self.prize = (self.prize[0] + 10000000000000, self.prize[1] + 10000000000000)\n",
    "    def getPossibleMoves(self):\n",
    "        solutions = []\n",
    "        # equation: n * (a[0] - a[1]) + m * (b[0] - b[1]) - (prize[0] - prize[1]) = 0\n",
    "        # m = ((prize[0] - prize[1]) - n * (a[0] - a[1])) / (b[0] - b[1])\n",
    "        # def solve(a, n, b, c):\n",
    "        #     return (c - a * n) / b\n",
    "        # solutions = []\n",
    "        # for n in range(0, 101):\n",
    "        #     m1 = solve(self.a[0], n, self.b[0], self.prize[0])\n",
    "        #     m2 = solve(self.a[1], n, self.b[1], self.prize[1])\n",
    "        #     if m1 == m2 and 0 <= m1 <= 100:\n",
    "        #         solutions.append((int(n), int(m1)))\n",
    "        # print(solutions)\n",
    "        n, m = symbols(['n', 'm'])\n",
    "        sol = solve([n * self.a[0] + m * self.b[0] - self.prize[0], n * self.a[1] + m * self.b[1] - self.prize[1]], [n, m])\n",
    "        # print(sol)\n",
    "        if sol[n] % 1 == 0 and sol[m] % 1 == 0:\n",
    "            solutions.append((sol[n], sol[m]))\n",
    "        # print(solutions)\n",
    "        return solutions"
   ]
  },
  {
   "cell_type": "code",
   "execution_count": 136,
   "metadata": {},
   "outputs": [
    {
     "data": {
      "text/latex": [
       "$\\displaystyle 875318608908$"
      ],
      "text/plain": [
       "875318608908"
      ]
     },
     "execution_count": 136,
     "metadata": {},
     "output_type": "execute_result"
    }
   ],
   "source": [
    "import re\n",
    "with open('data/test/13.txt', 'r', encoding='utf-8') as f:\n",
    "    arcade = f.read()\n",
    "\n",
    "claw_machines = arcade.split('\\n\\n')\n",
    "total_tokens = 0\n",
    "for machine in claw_machines:\n",
    "    machine = ClawMachine2(machine)\n",
    "    machine.getPossibleMoves()\n",
    "    total_tokens += machine.getMinTokens()\n",
    "\n",
    "total_tokens"
   ]
  },
  {
   "cell_type": "code",
   "execution_count": 137,
   "metadata": {},
   "outputs": [
    {
     "data": {
      "text/latex": [
       "$\\displaystyle 72587986598368$"
      ],
      "text/plain": [
       "72587986598368"
      ]
     },
     "execution_count": 137,
     "metadata": {},
     "output_type": "execute_result"
    }
   ],
   "source": [
    "import re\n",
    "with open('data/input/13.txt', 'r', encoding='utf-8') as f:\n",
    "    arcade = f.read()\n",
    "\n",
    "claw_machines = arcade.split('\\n\\n')\n",
    "total_tokens = 0\n",
    "for machine in claw_machines:\n",
    "    machine = ClawMachine2(machine)\n",
    "    machine.getPossibleMoves()\n",
    "    total_tokens += machine.getMinTokens()\n",
    "\n",
    "total_tokens"
   ]
  }
 ],
 "metadata": {
  "kernelspec": {
   "display_name": "aoc_24",
   "language": "python",
   "name": "python3"
  },
  "language_info": {
   "codemirror_mode": {
    "name": "ipython",
    "version": 3
   },
   "file_extension": ".py",
   "mimetype": "text/x-python",
   "name": "python",
   "nbconvert_exporter": "python",
   "pygments_lexer": "ipython3",
   "version": "3.10.9"
  }
 },
 "nbformat": 4,
 "nbformat_minor": 2
}
