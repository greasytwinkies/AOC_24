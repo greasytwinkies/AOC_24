{
 "cells": [
  {
   "cell_type": "code",
   "execution_count": 61,
   "metadata": {},
   "outputs": [],
   "source": [
    "# possible permutations:\n",
    "# horizontal, vertical, diagonal\n",
    "# also can be in reverse\n",
    "# and can overlap one another\n",
    "\n",
    "# convert vertical, horizontal and diagonal planes of the matrix to individual strings\n",
    "# use regex to find XMAS/SAMX substrings\n",
    "\n",
    "import re\n",
    "\n",
    "class XMAS_Search:\n",
    "    # use lookaheads to account for overlapping strings\n",
    "    pattern = re.compile(r'(?=XMAS|SAMX)')\n",
    "    def __init__(self, matrix: list):\n",
    "        self.matrix = matrix\n",
    "    \n",
    "    def getLevels(self):\n",
    "\n",
    "        max_col = len(self.matrix[0])\n",
    "        max_row = len(self.matrix)\n",
    "        cols = [[] for _ in range(max_col)]\n",
    "        rows = [[] for _ in range(max_row)]\n",
    "        fdiag = [[] for _ in range(max_row + max_col - 1)]\n",
    "        bdiag = [[] for _ in range(len(fdiag))]\n",
    "        min_bdiag = -max_row + 1\n",
    "\n",
    "        for x in range(max_col):\n",
    "            for y in range(max_row):\n",
    "                cols[x].append(self.matrix[y][x])\n",
    "                rows[y].append(self.matrix[y][x])\n",
    "                fdiag[x+y].append(self.matrix[y][x])\n",
    "                bdiag[x-y-min_bdiag].append(self.matrix[y][x])\n",
    "\n",
    "        cols = [''.join([char for char in col]) for col in cols if len(col) >= 4]\n",
    "        rows = [''.join([char for char in row]) for row in rows if len(row) >= 4]\n",
    "        fdiag = [''.join([char for char in diag]) for diag in fdiag if len(diag) >= 4]\n",
    "        bdiag = [''.join([char for char in diag]) for diag in bdiag if len(diag) >= 4]\n",
    "\n",
    "        levels = cols + rows + fdiag + bdiag\n",
    "        assert len(levels) == (len(cols) + len(rows) + len(fdiag) + len(bdiag))\n",
    "        return levels\n",
    "    \n",
    "    def findSubstring(self, level: str):\n",
    "        return len(re.findall(self.pattern, level))\n",
    "    \n",
    "    def getXMASCount(self):\n",
    "        count = 0\n",
    "        for level in self.getLevels():\n",
    "            count += self.findSubstring(level)\n",
    "        \n",
    "        return count \n",
    "\n",
    "\n",
    "\n",
    "        \n"
   ]
  },
  {
   "cell_type": "code",
   "execution_count": 62,
   "metadata": {},
   "outputs": [
    {
     "data": {
      "text/plain": [
       "18"
      ]
     },
     "execution_count": 62,
     "metadata": {},
     "output_type": "execute_result"
    }
   ],
   "source": [
    "with open('data/test/4.txt', 'r', encoding='utf-8') as f:\n",
    "    lines = f.read().splitlines()\n",
    "    matrix = [[letter for letter in line] for line in lines]\n",
    "\n",
    "# print(lines)\n",
    "part1 = XMAS_Search(matrix)\n",
    "# part1.getHorizontalLevels()\n",
    "# part1.getVerticalLevels()\n",
    "# part1.getDiagonalLevels()\n",
    "part1.getXMASCount()"
   ]
  },
  {
   "cell_type": "code",
   "execution_count": 64,
   "metadata": {},
   "outputs": [
    {
     "data": {
      "text/plain": [
       "2336"
      ]
     },
     "execution_count": 64,
     "metadata": {},
     "output_type": "execute_result"
    }
   ],
   "source": [
    "with open('data/input/4.txt', 'r', encoding='utf-8') as f:\n",
    "    lines = f.read().splitlines()\n",
    "    matrix = [[letter for letter in line] for line in lines]\n",
    "\n",
    "part1 = XMAS_Search(matrix)\n",
    "part1.getXMASCount()"
   ]
  },
  {
   "cell_type": "code",
   "execution_count": 97,
   "metadata": {},
   "outputs": [],
   "source": [
    "# part 2: A will always be in the middle\n",
    "# we can look for the nuclei and then check the diagonals\n",
    "\n",
    "class Part2:\n",
    "    def __init__(self, matrix: list):\n",
    "        self.matrix = matrix \n",
    "    \n",
    "    def findNuclei(self):\n",
    "        coords = []\n",
    "        # limits\n",
    "        vlim = len(self.matrix)-1\n",
    "        hlim = len(self.matrix[0])-1\n",
    "        # get coords of all A's in the matrix, except those on borders\n",
    "        for line_idx, line in enumerate(matrix):\n",
    "            for char_idx, char in enumerate(line):\n",
    "                if char == 'A' and 1 <= char_idx < hlim and 1 <= line_idx < vlim:\n",
    "                    coords.append((line_idx, char_idx))\n",
    "        return coords\n",
    "    \n",
    "    def checkNucleus(self, nucleus: tuple):\n",
    "        # have to check both diagonals\n",
    "        mat = self.matrix\n",
    "        (x, y) = nucleus\n",
    "        def checkChar(matrix, x, y, char):\n",
    "            return matrix[x][y] == char\n",
    "        \n",
    "        bdiag = ((checkChar(mat, x-1, y-1, \"S\") and checkChar(mat, x+1, y+1, \"M\")) or (checkChar(mat, x-1, y-1, \"M\") and checkChar(mat, x+1, y+1, \"S\")))\n",
    "        fdiag = ((checkChar(mat, x+1, y-1, \"S\") and checkChar(mat, x-1, y+1, \"M\")) or (checkChar(mat, x+1, y-1, \"M\") and checkChar(mat, x-1, y+1, \"S\")))\n",
    "        return bdiag and fdiag\n",
    "\n",
    "\n",
    "    def getXMASCount(self):\n",
    "        count = 0\n",
    "        for coord in self.findNuclei():\n",
    "            if self.checkNucleus(coord):\n",
    "                count += 1\n",
    "\n",
    "        return count\n",
    "\n",
    "\n",
    "        \n",
    "\n",
    "\n",
    "    \n",
    "\n",
    "            "
   ]
  },
  {
   "cell_type": "code",
   "execution_count": 98,
   "metadata": {},
   "outputs": [
    {
     "data": {
      "text/plain": [
       "9"
      ]
     },
     "execution_count": 98,
     "metadata": {},
     "output_type": "execute_result"
    }
   ],
   "source": [
    "with open('data/test/4.txt', 'r', encoding='utf-8') as f:\n",
    "    lines = f.read().splitlines()\n",
    "    matrix = [[letter for letter in line] for line in lines]\n",
    "\n",
    "part2 = Part2(matrix)\n",
    "part2.getXMASCount()"
   ]
  },
  {
   "cell_type": "code",
   "execution_count": 99,
   "metadata": {},
   "outputs": [
    {
     "data": {
      "text/plain": [
       "1831"
      ]
     },
     "execution_count": 99,
     "metadata": {},
     "output_type": "execute_result"
    }
   ],
   "source": [
    "with open('data/input/4.txt', 'r', encoding='utf-8') as f:\n",
    "    lines = f.read().splitlines()\n",
    "    matrix = [[letter for letter in line] for line in lines]\n",
    "\n",
    "part2 = Part2(matrix)\n",
    "part2.getXMASCount()"
   ]
  }
 ],
 "metadata": {
  "kernelspec": {
   "display_name": "aoc_24",
   "language": "python",
   "name": "python3"
  },
  "language_info": {
   "codemirror_mode": {
    "name": "ipython",
    "version": 3
   },
   "file_extension": ".py",
   "mimetype": "text/x-python",
   "name": "python",
   "nbconvert_exporter": "python",
   "pygments_lexer": "ipython3",
   "version": "3.10.9"
  }
 },
 "nbformat": 4,
 "nbformat_minor": 2
}
