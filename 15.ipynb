{
 "cells": [
  {
   "cell_type": "code",
   "execution_count": 62,
   "metadata": {},
   "outputs": [],
   "source": [
    "class Warehouse:\n",
    "    def __init__(self, grid: list, moves: str):\n",
    "        self.grid = grid\n",
    "        self.moves = moves\n",
    "\n",
    "\n",
    "    def getAdjacentCell(self, direction: str, robot_pos: tuple):\n",
    "        (row, col) = robot_pos\n",
    "        match direction:\n",
    "            case '<': # move left, change col by -1\n",
    "                return (row, col-1)\n",
    "            case \"^\": # move up, change row by -1\n",
    "                return (row-1, col)\n",
    "            case \">\": # move right, change col by +1\n",
    "                return (row, col+1)\n",
    "            case \"v\": # move down, change row by +1\n",
    "                return (row+1, col)\n",
    "    \n",
    "    def getRobotPos(self):\n",
    "        for row_idx, row in enumerate(self.grid):\n",
    "            for col_idx, col in enumerate(row):\n",
    "                if col == \"@\":\n",
    "                    return (row_idx, col_idx)\n",
    "                \n",
    "    def getGPS(self, pos: tuple):\n",
    "        (row, col) = pos\n",
    "        return 100 * row + col\n",
    "\n",
    "    def move(self):\n",
    "        # find position of robot first\n",
    "        curr = self.getRobotPos()\n",
    "        for move in self.moves:\n",
    "            # self.showGrid()\n",
    "            # print(move)\n",
    "            (adj_row, adj_col) = self.getAdjacentCell(move, curr)\n",
    "            adj = self.grid[adj_row][adj_col]\n",
    "            (curr_row, curr_col) = curr\n",
    "            match adj:\n",
    "            # three options:\n",
    "            # adjacent cell is an empty space -> robot moves to that cell \n",
    "                case \".\":\n",
    "                    self.grid[adj_row][adj_col] = \"@\"\n",
    "                    # replace old position of robot with empty space\n",
    "                    self.grid[curr_row][curr_col] = \".\"\n",
    "                    curr = (adj_row, adj_col)\n",
    "            # adjacent cell is wall (#) -> robot does not move\n",
    "                case \"#\":\n",
    "                    continue\n",
    "            # adjacent cell is a box (0) -> we need to check the length of the box sequence and check whether there is an adjacent space to move\n",
    "                case \"O\":\n",
    "                    box_len = 1\n",
    "                    check_pos = (adj_row, adj_col)\n",
    "                    while True:\n",
    "                        check_adj = self.getAdjacentCell(move, check_pos)\n",
    "                        (c_row, c_col) = check_adj\n",
    "                        cac = self.grid[c_row][c_col]\n",
    "                        if cac == \"O\":\n",
    "                            box_len += 1\n",
    "                            check_pos = check_adj\n",
    "                        else:\n",
    "                            break\n",
    "\n",
    "                    # check the cell adjacent to the box chain, must be an empty space to move\n",
    "                    check_adj = self.getAdjacentCell(move, check_pos)\n",
    "                    (c_row, c_col) = check_adj\n",
    "                    cac = self.grid[c_row][c_col]\n",
    "                    if cac == \".\":\n",
    "                        space = True\n",
    "                    else:\n",
    "                        continue\n",
    "                    \n",
    "                    \n",
    "                    if space:\n",
    "                        # extend the box chain by one cell \n",
    "                        # replace the start of the box chain with the robot\n",
    "                        # replace the original position of the robot with an empty space\n",
    "                        match move:\n",
    "                            case \"^\": # row - 1\n",
    "                                self.grid[curr_row-box_len-1][curr_col] = \"O\"\n",
    "                                self.grid[curr_row-1][curr_col] = \"@\"\n",
    "                                self.grid[curr_row][curr_col] = \".\"\n",
    "                                curr = (curr_row-1, curr_col)\n",
    "                            case \"v\": # row + 1\n",
    "                                self.grid[curr_row+box_len+1][curr_col] = \"O\"\n",
    "                                self.grid[curr_row+1][curr_col] = \"@\"\n",
    "                                self.grid[curr_row][curr_col] = \".\"\n",
    "                                curr = (curr_row+1, curr_col)\n",
    "                            case \">\": # col + 1\n",
    "                                self.grid[curr_row][curr_col+box_len+1] = \"O\"\n",
    "                                self.grid[curr_row][curr_col+1] = \"@\"\n",
    "                                self.grid[curr_row][curr_col] = \".\"\n",
    "                                curr = (curr_row, curr_col+1)\n",
    "                            case \"<\": # col - 1\n",
    "                                self.grid[curr_row][curr_col-box_len-1] = \"O\"\n",
    "                                self.grid[curr_row][curr_col-1] = \"@\"\n",
    "                                self.grid[curr_row][curr_col] = \".\"\n",
    "                                curr = (curr_row, curr_col-1)\n",
    "    \n",
    "    def showGrid(self):\n",
    "        for row in self.grid:\n",
    "            print(*row, sep=' ')\n",
    "        print()\n",
    "\n",
    "    def getGPSTotal(self):\n",
    "        # get the coords of all boxes in the final grid\n",
    "        self.move()\n",
    "        gps_sum = 0\n",
    "        for row_idx, row in enumerate(self.grid):\n",
    "            for col_idx, col in enumerate(row):\n",
    "                if col == \"O\":\n",
    "                    gps_sum += self.getGPS((row_idx, col_idx))\n",
    "\n",
    "        return gps_sum\n",
    "\n",
    "    "
   ]
  },
  {
   "cell_type": "code",
   "execution_count": 64,
   "metadata": {},
   "outputs": [
    {
     "data": {
      "text/plain": [
       "2028"
      ]
     },
     "execution_count": 64,
     "metadata": {},
     "output_type": "execute_result"
    }
   ],
   "source": [
    "with open('data/test/15_1.txt', 'r', encoding='utf-8') as f:\n",
    "    [grid, moves] = f.read().split('\\n\\n')\n",
    "    grid = [[item for item in row] for row in grid.split('\\n')]\n",
    "    moves = ''.join(moves.split('\\n'))\n",
    "\n",
    "    warehouse = Warehouse(grid, moves)\n",
    "    gps = warehouse.getGPSTotal()\n",
    "\n",
    "gps"
   ]
  },
  {
   "cell_type": "code",
   "execution_count": 65,
   "metadata": {},
   "outputs": [
    {
     "data": {
      "text/plain": [
       "10092"
      ]
     },
     "execution_count": 65,
     "metadata": {},
     "output_type": "execute_result"
    }
   ],
   "source": [
    "with open('data/test/15.txt', 'r', encoding='utf-8') as f:\n",
    "    [grid, moves] = f.read().split('\\n\\n')\n",
    "    grid = [[item for item in row] for row in grid.split('\\n')]\n",
    "    moves = ''.join(moves.split('\\n'))\n",
    "\n",
    "    warehouse = Warehouse(grid, moves)\n",
    "    gps = warehouse.getGPSTotal()\n",
    "\n",
    "gps"
   ]
  },
  {
   "cell_type": "code",
   "execution_count": 67,
   "metadata": {},
   "outputs": [
    {
     "data": {
      "text/plain": [
       "1497888"
      ]
     },
     "execution_count": 67,
     "metadata": {},
     "output_type": "execute_result"
    }
   ],
   "source": [
    "with open('data/input/15.txt', 'r', encoding='utf-8') as f:\n",
    "    [grid, moves] = f.read().split('\\n\\n')\n",
    "    grid = [[item for item in row] for row in grid.split('\\n')]\n",
    "    moves = ''.join(moves.split('\\n'))\n",
    "\n",
    "    warehouse = Warehouse(grid, moves)\n",
    "    gps = warehouse.getGPSTotal()\n",
    "\n",
    "gps"
   ]
  }
 ],
 "metadata": {
  "kernelspec": {
   "display_name": "aoc_24",
   "language": "python",
   "name": "python3"
  },
  "language_info": {
   "codemirror_mode": {
    "name": "ipython",
    "version": 3
   },
   "file_extension": ".py",
   "mimetype": "text/x-python",
   "name": "python",
   "nbconvert_exporter": "python",
   "pygments_lexer": "ipython3",
   "version": "3.10.9"
  }
 },
 "nbformat": 4,
 "nbformat_minor": 2
}
